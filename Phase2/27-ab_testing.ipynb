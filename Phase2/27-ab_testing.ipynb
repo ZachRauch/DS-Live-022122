{
 "cells": [
  {
   "cell_type": "markdown",
   "metadata": {
    "toc": true
   },
   "source": [
    "<h1>Table of Contents<span class=\"tocSkip\"></span></h1>\n",
    "<div class=\"toc\"><ul class=\"toc-item\"><li><span><a href=\"#Objectives\" data-toc-modified-id=\"Objectives-1\"><span class=\"toc-item-num\">1&nbsp;&nbsp;</span>Objectives</a></span></li><li><span><a href=\"#Example-Together\" data-toc-modified-id=\"Example-Together-2\"><span class=\"toc-item-num\">2&nbsp;&nbsp;</span>Example Together</a></span><ul class=\"toc-item\"><li><span><a href=\"#Question\" data-toc-modified-id=\"Question-2.1\"><span class=\"toc-item-num\">2.1&nbsp;&nbsp;</span>Question</a></span></li><li><span><a href=\"#Considerations\" data-toc-modified-id=\"Considerations-2.2\"><span class=\"toc-item-num\">2.2&nbsp;&nbsp;</span>Considerations</a></span></li><li><span><a href=\"#Loading-the-Data\" data-toc-modified-id=\"Loading-the-Data-2.3\"><span class=\"toc-item-num\">2.3&nbsp;&nbsp;</span>Loading the Data</a></span></li><li><span><a href=\"#Some-Exploration-to-Better-Understand-our-Data\" data-toc-modified-id=\"Some-Exploration-to-Better-Understand-our-Data-2.4\"><span class=\"toc-item-num\">2.4&nbsp;&nbsp;</span>Some Exploration to Better Understand our Data</a></span></li><li><span><a href=\"#Experimental-Setup\" data-toc-modified-id=\"Experimental-Setup-2.5\"><span class=\"toc-item-num\">2.5&nbsp;&nbsp;</span>Experimental Setup</a></span><ul class=\"toc-item\"><li><span><a href=\"#What-Test-Would-Make-Sense?\" data-toc-modified-id=\"What-Test-Would-Make-Sense?-2.5.1\"><span class=\"toc-item-num\">2.5.1&nbsp;&nbsp;</span>What Test Would Make Sense?</a></span></li><li><span><a href=\"#The-Hypotheses\" data-toc-modified-id=\"The-Hypotheses-2.5.2\"><span class=\"toc-item-num\">2.5.2&nbsp;&nbsp;</span>The Hypotheses</a></span></li><li><span><a href=\"#Setting-a-Threshold\" data-toc-modified-id=\"Setting-a-Threshold-2.5.3\"><span class=\"toc-item-num\">2.5.3&nbsp;&nbsp;</span>Setting a Threshold</a></span></li></ul></li><li><span><a href=\"#$\\chi^2$-Test\" data-toc-modified-id=\"$\\chi^2$-Test-2.6\"><span class=\"toc-item-num\">2.6&nbsp;&nbsp;</span>$\\chi^2$ Test</a></span><ul class=\"toc-item\"><li><span><a href=\"#Setup-the-Data\" data-toc-modified-id=\"Setup-the-Data-2.6.1\"><span class=\"toc-item-num\">2.6.1&nbsp;&nbsp;</span>Setup the Data</a></span></li><li><span><a href=\"#Calculation\" data-toc-modified-id=\"Calculation-2.6.2\"><span class=\"toc-item-num\">2.6.2&nbsp;&nbsp;</span>Calculation</a></span></li></ul></li><li><span><a href=\"#Interpretation\" data-toc-modified-id=\"Interpretation-2.7\"><span class=\"toc-item-num\">2.7&nbsp;&nbsp;</span>Interpretation</a></span></li></ul></li><li><span><a href=\"#Exercise\" data-toc-modified-id=\"Exercise-3\"><span class=\"toc-item-num\">3&nbsp;&nbsp;</span>Exercise</a></span></li></ul></div>"
   ]
  },
  {
   "cell_type": "code",
   "execution_count": 1,
   "metadata": {
    "ExecuteTime": {
     "end_time": "2022-03-18T18:13:55.047527Z",
     "start_time": "2022-03-18T18:13:54.331994Z"
    },
    "_cell_guid": "b1076dfc-b9ad-4769-8c92-a6c4dae69d19",
    "_uuid": "8f2839f25d086af736a60e9eeb907d3b93b6e0e5"
   },
   "outputs": [],
   "source": [
    "import numpy as np\n",
    "import pandas as pd\n",
    "\n",
    "from scipy import stats\n",
    "import seaborn as sns"
   ]
  },
  {
   "cell_type": "markdown",
   "metadata": {},
   "source": [
    "# Objectives"
   ]
  },
  {
   "cell_type": "markdown",
   "metadata": {},
   "source": [
    "- Conduct an A/B test in Python\n",
    "- Interpret the results of the A/B tests for a stakeholder"
   ]
  },
  {
   "cell_type": "markdown",
   "metadata": {},
   "source": [
    "# Example Together"
   ]
  },
  {
   "cell_type": "markdown",
   "metadata": {},
   "source": [
    "## Question"
   ]
  },
  {
   "cell_type": "markdown",
   "metadata": {},
   "source": [
    "We have data about whether customers completed sales transactions, segregated by the type of ad banners to which the customers were exposed.\n",
    "\n",
    "The question we want to answer is whether there was any difference in sales \"conversions\" between desktop customers who saw the sneakers banner and desktop customers who saw the accessories banner in the month of May 2019."
   ]
  },
  {
   "cell_type": "markdown",
   "metadata": {},
   "source": [
    "## Considerations"
   ]
  },
  {
   "cell_type": "markdown",
   "metadata": {},
   "source": [
    "What would we need to consider when designing our experiment?"
   ]
  },
  {
   "cell_type": "markdown",
   "metadata": {},
   "source": [
    "Might include:\n",
    "\n",
    "- Who is it that we're including in our test?\n",
    "- How big of an effect would make it \"worth\" us seeing?\n",
    "    - This can affect sample size\n",
    "    - This can give context of a statistically significant result\n",
    "- Other biases or \"gotchas\""
   ]
  },
  {
   "cell_type": "markdown",
   "metadata": {},
   "source": [
    "## Loading the Data"
   ]
  },
  {
   "cell_type": "markdown",
   "metadata": {},
   "source": [
    "First let's download the data from [kaggle](https://www.kaggle.com/podsyp/how-to-do-product-analytics) via the release page of this repo: https://github.com/flatiron-school/ds-ab_testing/releases \n",
    "\n",
    "The code below will load it into our DataFrame:"
   ]
  },
  {
   "cell_type": "code",
   "execution_count": 2,
   "metadata": {
    "ExecuteTime": {
     "end_time": "2022-03-18T18:14:16.420619Z",
     "start_time": "2022-03-18T18:13:55.048989Z"
    },
    "_cell_guid": "79c7e3d0-c299-4dcb-8224-4455121ee9b0",
    "_uuid": "d629ff2d2480ee46fbb7e2d37f6b5fab8052498a"
   },
   "outputs": [],
   "source": [
    "# This will download the data from online so it can take\n",
    "# some time (but relatively small download)\n",
    "\n",
    "df = pd.read_csv('https://github.com/flatiron-school/ds-ab_testing/\\\n",
    "releases/download/v1.2/products_small.csv')"
   ]
  },
  {
   "cell_type": "markdown",
   "metadata": {},
   "source": [
    "> Let's take a look while we're at it"
   ]
  },
  {
   "cell_type": "code",
   "execution_count": 3,
   "metadata": {
    "ExecuteTime": {
     "end_time": "2022-03-18T18:14:16.432035Z",
     "start_time": "2022-03-18T18:14:16.422230Z"
    }
   },
   "outputs": [
    {
     "data": {
      "text/html": [
       "<div>\n",
       "<style scoped>\n",
       "    .dataframe tbody tr th:only-of-type {\n",
       "        vertical-align: middle;\n",
       "    }\n",
       "\n",
       "    .dataframe tbody tr th {\n",
       "        vertical-align: top;\n",
       "    }\n",
       "\n",
       "    .dataframe thead th {\n",
       "        text-align: right;\n",
       "    }\n",
       "</style>\n",
       "<table border=\"1\" class=\"dataframe\">\n",
       "  <thead>\n",
       "    <tr style=\"text-align: right;\">\n",
       "      <th></th>\n",
       "      <th>Unnamed: 0</th>\n",
       "      <th>order_id</th>\n",
       "      <th>user_id</th>\n",
       "      <th>page_id</th>\n",
       "      <th>product</th>\n",
       "      <th>site_version</th>\n",
       "      <th>time</th>\n",
       "      <th>title</th>\n",
       "      <th>target</th>\n",
       "    </tr>\n",
       "  </thead>\n",
       "  <tbody>\n",
       "    <tr>\n",
       "      <th>0</th>\n",
       "      <td>4122928</td>\n",
       "      <td>3e6c5e89fdddcaee0eed210ec2c9cadf</td>\n",
       "      <td>90d58d967eb72656e86059ec6f208092</td>\n",
       "      <td>2fdc16a09e0016555dd4da4a3fe84414</td>\n",
       "      <td>accessories</td>\n",
       "      <td>desktop</td>\n",
       "      <td>2019-03-06 08:42:47</td>\n",
       "      <td>banner_show</td>\n",
       "      <td>0</td>\n",
       "    </tr>\n",
       "    <tr>\n",
       "      <th>1</th>\n",
       "      <td>564306</td>\n",
       "      <td>feed6203517d3abf6aab13761633174b</td>\n",
       "      <td>08703dab1f004eabba25aacb7f0e5484</td>\n",
       "      <td>6b0a902b9b73d5a158d0119d6feb38ac</td>\n",
       "      <td>sneakers</td>\n",
       "      <td>mobile</td>\n",
       "      <td>2019-04-19 18:30:45</td>\n",
       "      <td>banner_show</td>\n",
       "      <td>0</td>\n",
       "    </tr>\n",
       "    <tr>\n",
       "      <th>2</th>\n",
       "      <td>1872289</td>\n",
       "      <td>e33d5d7941edc281646aa37763729771</td>\n",
       "      <td>bdf1d25697e21419901c94fabdafad15</td>\n",
       "      <td>9ddb7315c4357929931b48f2b3d11c62</td>\n",
       "      <td>company</td>\n",
       "      <td>mobile</td>\n",
       "      <td>2019-01-20 17:20:10</td>\n",
       "      <td>banner_show</td>\n",
       "      <td>0</td>\n",
       "    </tr>\n",
       "    <tr>\n",
       "      <th>3</th>\n",
       "      <td>3616779</td>\n",
       "      <td>7c4caa8d508fa7c3bbc25f35cdd9168a</td>\n",
       "      <td>8d2f23a732c9527d95678088a3bac122</td>\n",
       "      <td>1f86cd0bea31d54a5b511b42fd19401a</td>\n",
       "      <td>sneakers</td>\n",
       "      <td>mobile</td>\n",
       "      <td>2019-02-20 09:38:32</td>\n",
       "      <td>banner_show</td>\n",
       "      <td>0</td>\n",
       "    </tr>\n",
       "    <tr>\n",
       "      <th>4</th>\n",
       "      <td>5871482</td>\n",
       "      <td>12874b29bde8bbd43fb2b95735caf9e6</td>\n",
       "      <td>5a22604f8f31ae98ee1211ece3a02004</td>\n",
       "      <td>b533f7e2003418c63fd71471264c559a</td>\n",
       "      <td>sneakers</td>\n",
       "      <td>mobile</td>\n",
       "      <td>2019-04-24 09:19:02</td>\n",
       "      <td>banner_show</td>\n",
       "      <td>0</td>\n",
       "    </tr>\n",
       "  </tbody>\n",
       "</table>\n",
       "</div>"
      ],
      "text/plain": [
       "   Unnamed: 0                          order_id  \\\n",
       "0     4122928  3e6c5e89fdddcaee0eed210ec2c9cadf   \n",
       "1      564306  feed6203517d3abf6aab13761633174b   \n",
       "2     1872289  e33d5d7941edc281646aa37763729771   \n",
       "3     3616779  7c4caa8d508fa7c3bbc25f35cdd9168a   \n",
       "4     5871482  12874b29bde8bbd43fb2b95735caf9e6   \n",
       "\n",
       "                            user_id                           page_id  \\\n",
       "0  90d58d967eb72656e86059ec6f208092  2fdc16a09e0016555dd4da4a3fe84414   \n",
       "1  08703dab1f004eabba25aacb7f0e5484  6b0a902b9b73d5a158d0119d6feb38ac   \n",
       "2  bdf1d25697e21419901c94fabdafad15  9ddb7315c4357929931b48f2b3d11c62   \n",
       "3  8d2f23a732c9527d95678088a3bac122  1f86cd0bea31d54a5b511b42fd19401a   \n",
       "4  5a22604f8f31ae98ee1211ece3a02004  b533f7e2003418c63fd71471264c559a   \n",
       "\n",
       "       product site_version                 time        title  target  \n",
       "0  accessories      desktop  2019-03-06 08:42:47  banner_show       0  \n",
       "1     sneakers       mobile  2019-04-19 18:30:45  banner_show       0  \n",
       "2      company       mobile  2019-01-20 17:20:10  banner_show       0  \n",
       "3     sneakers       mobile  2019-02-20 09:38:32  banner_show       0  \n",
       "4     sneakers       mobile  2019-04-24 09:19:02  banner_show       0  "
      ]
     },
     "execution_count": 3,
     "metadata": {},
     "output_type": "execute_result"
    }
   ],
   "source": [
    "# Check it out\n",
    "df.head()"
   ]
  },
  {
   "cell_type": "code",
   "execution_count": 4,
   "metadata": {
    "ExecuteTime": {
     "end_time": "2022-03-18T18:14:16.654300Z",
     "start_time": "2022-03-18T18:14:16.433405Z"
    },
    "scrolled": true
   },
   "outputs": [
    {
     "name": "stdout",
     "output_type": "stream",
     "text": [
      "<class 'pandas.core.frame.DataFrame'>\n",
      "RangeIndex: 1000000 entries, 0 to 999999\n",
      "Data columns (total 9 columns):\n",
      " #   Column        Non-Null Count    Dtype \n",
      "---  ------        --------------    ----- \n",
      " 0   Unnamed: 0    1000000 non-null  int64 \n",
      " 1   order_id      1000000 non-null  object\n",
      " 2   user_id       1000000 non-null  object\n",
      " 3   page_id       1000000 non-null  object\n",
      " 4   product       1000000 non-null  object\n",
      " 5   site_version  1000000 non-null  object\n",
      " 6   time          1000000 non-null  object\n",
      " 7   title         1000000 non-null  object\n",
      " 8   target        1000000 non-null  int64 \n",
      "dtypes: int64(2), object(7)\n",
      "memory usage: 68.7+ MB\n"
     ]
    }
   ],
   "source": [
    "# All the deets\n",
    "df.info()"
   ]
  },
  {
   "cell_type": "code",
   "execution_count": 5,
   "metadata": {
    "ExecuteTime": {
     "end_time": "2022-03-18T18:14:16.692524Z",
     "start_time": "2022-03-18T18:14:16.655262Z"
    },
    "scrolled": true
   },
   "outputs": [
    {
     "data": {
      "text/html": [
       "<div>\n",
       "<style scoped>\n",
       "    .dataframe tbody tr th:only-of-type {\n",
       "        vertical-align: middle;\n",
       "    }\n",
       "\n",
       "    .dataframe tbody tr th {\n",
       "        vertical-align: top;\n",
       "    }\n",
       "\n",
       "    .dataframe thead th {\n",
       "        text-align: right;\n",
       "    }\n",
       "</style>\n",
       "<table border=\"1\" class=\"dataframe\">\n",
       "  <thead>\n",
       "    <tr style=\"text-align: right;\">\n",
       "      <th></th>\n",
       "      <th>Unnamed: 0</th>\n",
       "      <th>target</th>\n",
       "    </tr>\n",
       "  </thead>\n",
       "  <tbody>\n",
       "    <tr>\n",
       "      <th>count</th>\n",
       "      <td>1.000000e+06</td>\n",
       "      <td>1000000.000000</td>\n",
       "    </tr>\n",
       "    <tr>\n",
       "      <th>mean</th>\n",
       "      <td>4.239850e+06</td>\n",
       "      <td>0.029395</td>\n",
       "    </tr>\n",
       "    <tr>\n",
       "      <th>std</th>\n",
       "      <td>2.443943e+06</td>\n",
       "      <td>0.168911</td>\n",
       "    </tr>\n",
       "    <tr>\n",
       "      <th>min</th>\n",
       "      <td>4.000000e+00</td>\n",
       "      <td>0.000000</td>\n",
       "    </tr>\n",
       "    <tr>\n",
       "      <th>25%</th>\n",
       "      <td>2.125160e+06</td>\n",
       "      <td>0.000000</td>\n",
       "    </tr>\n",
       "    <tr>\n",
       "      <th>50%</th>\n",
       "      <td>4.244678e+06</td>\n",
       "      <td>0.000000</td>\n",
       "    </tr>\n",
       "    <tr>\n",
       "      <th>75%</th>\n",
       "      <td>6.355990e+06</td>\n",
       "      <td>0.000000</td>\n",
       "    </tr>\n",
       "    <tr>\n",
       "      <th>max</th>\n",
       "      <td>8.471211e+06</td>\n",
       "      <td>1.000000</td>\n",
       "    </tr>\n",
       "  </tbody>\n",
       "</table>\n",
       "</div>"
      ],
      "text/plain": [
       "         Unnamed: 0          target\n",
       "count  1.000000e+06  1000000.000000\n",
       "mean   4.239850e+06        0.029395\n",
       "std    2.443943e+06        0.168911\n",
       "min    4.000000e+00        0.000000\n",
       "25%    2.125160e+06        0.000000\n",
       "50%    4.244678e+06        0.000000\n",
       "75%    6.355990e+06        0.000000\n",
       "max    8.471211e+06        1.000000"
      ]
     },
     "execution_count": 5,
     "metadata": {},
     "output_type": "execute_result"
    }
   ],
   "source": [
    "df.describe()"
   ]
  },
  {
   "cell_type": "markdown",
   "metadata": {},
   "source": [
    "## Some Exploration to Better Understand our Data"
   ]
  },
  {
   "cell_type": "markdown",
   "metadata": {},
   "source": [
    "Lets's look at the different banner types:"
   ]
  },
  {
   "cell_type": "code",
   "execution_count": 6,
   "metadata": {
    "ExecuteTime": {
     "end_time": "2022-03-18T18:14:16.780160Z",
     "start_time": "2022-03-18T18:14:16.693594Z"
    },
    "scrolled": true
   },
   "outputs": [
    {
     "data": {
      "text/plain": [
       "clothes             210996\n",
       "company             203020\n",
       "sneakers            201298\n",
       "sports_nutrition    193200\n",
       "accessories         191486\n",
       "Name: product, dtype: int64"
      ]
     },
     "execution_count": 6,
     "metadata": {},
     "output_type": "execute_result"
    }
   ],
   "source": [
    "# banner types\n",
    "df['product'].value_counts()"
   ]
  },
  {
   "cell_type": "code",
   "execution_count": 7,
   "metadata": {
    "ExecuteTime": {
     "end_time": "2022-03-18T18:14:16.886614Z",
     "start_time": "2022-03-18T18:14:16.781230Z"
    }
   },
   "outputs": [
    {
     "data": {
      "text/plain": [
       "product           target\n",
       "accessories       0         0.972014\n",
       "                  1         0.027986\n",
       "clothes           0         0.937079\n",
       "                  1         0.062921\n",
       "company           0         1.000000\n",
       "sneakers          0         0.960640\n",
       "                  1         0.039360\n",
       "sports_nutrition  0         0.985316\n",
       "                  1         0.014684\n",
       "Name: target, dtype: float64"
      ]
     },
     "execution_count": 7,
     "metadata": {},
     "output_type": "execute_result"
    }
   ],
   "source": [
    "# products and targets\n",
    "df.groupby('product')['target'].value_counts(normalize=True)"
   ]
  },
  {
   "cell_type": "markdown",
   "metadata": {},
   "source": [
    "Let's look at the range of time-stamps on these data:"
   ]
  },
  {
   "cell_type": "code",
   "execution_count": 8,
   "metadata": {
    "ExecuteTime": {
     "end_time": "2022-03-18T18:14:16.954035Z",
     "start_time": "2022-03-18T18:14:16.888404Z"
    }
   },
   "outputs": [
    {
     "data": {
      "text/plain": [
       "'2019-01-01 00:00:25'"
      ]
     },
     "execution_count": 8,
     "metadata": {},
     "output_type": "execute_result"
    }
   ],
   "source": [
    "# Date range\n",
    "df.time.min()"
   ]
  },
  {
   "cell_type": "code",
   "execution_count": 9,
   "metadata": {
    "ExecuteTime": {
     "end_time": "2022-03-18T18:14:17.022014Z",
     "start_time": "2022-03-18T18:14:16.955124Z"
    },
    "scrolled": true
   },
   "outputs": [
    {
     "data": {
      "text/plain": [
       "'2019-05-31 23:59:21'"
      ]
     },
     "execution_count": 9,
     "metadata": {},
     "output_type": "execute_result"
    }
   ],
   "source": [
    "df.time.max()"
   ]
  },
  {
   "cell_type": "markdown",
   "metadata": {},
   "source": [
    "Let's check the counts of the different site_version values:"
   ]
  },
  {
   "cell_type": "code",
   "execution_count": 10,
   "metadata": {
    "ExecuteTime": {
     "end_time": "2022-03-18T18:14:17.101961Z",
     "start_time": "2022-03-18T18:14:17.022951Z"
    },
    "scrolled": true
   },
   "outputs": [
    {
     "data": {
      "text/plain": [
       "mobile     718521\n",
       "desktop    281479\n",
       "Name: site_version, dtype: int64"
      ]
     },
     "execution_count": 10,
     "metadata": {},
     "output_type": "execute_result"
    }
   ],
   "source": [
    "# Site types\n",
    "df['site_version'].value_counts()"
   ]
  },
  {
   "cell_type": "code",
   "execution_count": 11,
   "metadata": {
    "ExecuteTime": {
     "end_time": "2022-03-18T18:14:19.509056Z",
     "start_time": "2022-03-18T18:14:19.387719Z"
    }
   },
   "outputs": [
    {
     "data": {
      "text/plain": [
       "banner_show     872275\n",
       "banner_click     98330\n",
       "order            29395\n",
       "Name: title, dtype: int64"
      ]
     },
     "execution_count": 11,
     "metadata": {},
     "output_type": "execute_result"
    }
   ],
   "source": [
    "# action title\n",
    "df['title'].value_counts()"
   ]
  },
  {
   "cell_type": "code",
   "execution_count": 12,
   "metadata": {
    "ExecuteTime": {
     "end_time": "2022-03-18T18:15:12.355471Z",
     "start_time": "2022-03-18T18:15:12.259496Z"
    },
    "scrolled": true
   },
   "outputs": [
    {
     "data": {
      "text/plain": [
       "29395"
      ]
     },
     "execution_count": 12,
     "metadata": {},
     "output_type": "execute_result"
    }
   ],
   "source": [
    "# double check\n",
    "len(df[ df['title'] == 'order'])"
   ]
  },
  {
   "cell_type": "code",
   "execution_count": 13,
   "metadata": {
    "ExecuteTime": {
     "end_time": "2022-03-18T18:15:28.289952Z",
     "start_time": "2022-03-18T18:15:28.190702Z"
    }
   },
   "outputs": [
    {
     "data": {
      "text/plain": [
       "29395"
      ]
     },
     "execution_count": 13,
     "metadata": {},
     "output_type": "execute_result"
    }
   ],
   "source": [
    "sum(df.target)"
   ]
  },
  {
   "cell_type": "markdown",
   "metadata": {},
   "source": [
    "## Experimental Setup"
   ]
  },
  {
   "cell_type": "markdown",
   "metadata": {},
   "source": [
    "We need to filter by site_version, time, and product:"
   ]
  },
  {
   "cell_type": "code",
   "execution_count": null,
   "metadata": {},
   "outputs": [],
   "source": [
    "#desktop customers who saw the sneakers banner and desktop customers who saw the accessories banner in the month of May 2019."
   ]
  },
  {
   "cell_type": "code",
   "execution_count": 14,
   "metadata": {
    "ExecuteTime": {
     "end_time": "2022-03-18T18:23:43.874363Z",
     "start_time": "2022-03-18T18:23:43.573276Z"
    }
   },
   "outputs": [],
   "source": [
    "filter1 = df['site_version'] == 'desktop'\n",
    "filter2 = (df['product'] == 'accessories') | (df['product'] == 'sneakers')\n",
    "filter3 = df['time'] >= '2019-05-01'"
   ]
  },
  {
   "cell_type": "code",
   "execution_count": 15,
   "metadata": {
    "ExecuteTime": {
     "end_time": "2022-03-18T18:25:44.848152Z",
     "start_time": "2022-03-18T18:25:44.618233Z"
    }
   },
   "outputs": [],
   "source": [
    "df_AB = df[filter1 & filter2 & filter3]"
   ]
  },
  {
   "cell_type": "code",
   "execution_count": 16,
   "metadata": {
    "ExecuteTime": {
     "end_time": "2022-03-18T18:25:53.971692Z",
     "start_time": "2022-03-18T18:25:53.950309Z"
    },
    "scrolled": true
   },
   "outputs": [
    {
     "data": {
      "text/html": [
       "<div>\n",
       "<style scoped>\n",
       "    .dataframe tbody tr th:only-of-type {\n",
       "        vertical-align: middle;\n",
       "    }\n",
       "\n",
       "    .dataframe tbody tr th {\n",
       "        vertical-align: top;\n",
       "    }\n",
       "\n",
       "    .dataframe thead th {\n",
       "        text-align: right;\n",
       "    }\n",
       "</style>\n",
       "<table border=\"1\" class=\"dataframe\">\n",
       "  <thead>\n",
       "    <tr style=\"text-align: right;\">\n",
       "      <th></th>\n",
       "      <th>Unnamed: 0</th>\n",
       "      <th>order_id</th>\n",
       "      <th>user_id</th>\n",
       "      <th>page_id</th>\n",
       "      <th>product</th>\n",
       "      <th>site_version</th>\n",
       "      <th>time</th>\n",
       "      <th>title</th>\n",
       "      <th>target</th>\n",
       "    </tr>\n",
       "  </thead>\n",
       "  <tbody>\n",
       "    <tr>\n",
       "      <th>32</th>\n",
       "      <td>8064199</td>\n",
       "      <td>f909eb9bbf2795337dd38323b7951705</td>\n",
       "      <td>5a96585c3db94eb2ae40e559cbd2e164</td>\n",
       "      <td>94b6ea2316b773afa20925d9b79d5bf8</td>\n",
       "      <td>accessories</td>\n",
       "      <td>desktop</td>\n",
       "      <td>2019-05-19 09:26:29</td>\n",
       "      <td>banner_show</td>\n",
       "      <td>0</td>\n",
       "    </tr>\n",
       "    <tr>\n",
       "      <th>38</th>\n",
       "      <td>7560076</td>\n",
       "      <td>97808cfd3d44fa7e8cfeb71bb5f02590</td>\n",
       "      <td>1e2db5d01051fc65fffc6c27f34400a3</td>\n",
       "      <td>48c8e3f287d814493cff887ff445f535</td>\n",
       "      <td>sneakers</td>\n",
       "      <td>desktop</td>\n",
       "      <td>2019-05-03 05:34:46</td>\n",
       "      <td>banner_show</td>\n",
       "      <td>0</td>\n",
       "    </tr>\n",
       "    <tr>\n",
       "      <th>59</th>\n",
       "      <td>5923209</td>\n",
       "      <td>71c39cc2e2ede95a7ca296d4e3e56f85</td>\n",
       "      <td>46a6f13750d5032f366349e3e3171678</td>\n",
       "      <td>30559d0b23980e7a778c93c52ba5deca</td>\n",
       "      <td>sneakers</td>\n",
       "      <td>desktop</td>\n",
       "      <td>2019-05-19 05:04:32</td>\n",
       "      <td>banner_show</td>\n",
       "      <td>0</td>\n",
       "    </tr>\n",
       "    <tr>\n",
       "      <th>105</th>\n",
       "      <td>8161379</td>\n",
       "      <td>e969a575bcf5b10d6676c2fab9cbf784</td>\n",
       "      <td>aa77bca62e9a84f5cd8d734c70afd060</td>\n",
       "      <td>70ed6e66458fda7a3164e2633d81ea07</td>\n",
       "      <td>sneakers</td>\n",
       "      <td>desktop</td>\n",
       "      <td>2019-05-29 17:51:46</td>\n",
       "      <td>banner_show</td>\n",
       "      <td>0</td>\n",
       "    </tr>\n",
       "    <tr>\n",
       "      <th>115</th>\n",
       "      <td>4564531</td>\n",
       "      <td>3068b616fac2838de6a2d33a6fad60ad</td>\n",
       "      <td>aec8ee5450418b5bc97127c2269058ca</td>\n",
       "      <td>14cbe8cf92c259f5d18310347e3cb5cb</td>\n",
       "      <td>sneakers</td>\n",
       "      <td>desktop</td>\n",
       "      <td>2019-05-04 09:33:44</td>\n",
       "      <td>banner_show</td>\n",
       "      <td>0</td>\n",
       "    </tr>\n",
       "  </tbody>\n",
       "</table>\n",
       "</div>"
      ],
      "text/plain": [
       "     Unnamed: 0                          order_id  \\\n",
       "32      8064199  f909eb9bbf2795337dd38323b7951705   \n",
       "38      7560076  97808cfd3d44fa7e8cfeb71bb5f02590   \n",
       "59      5923209  71c39cc2e2ede95a7ca296d4e3e56f85   \n",
       "105     8161379  e969a575bcf5b10d6676c2fab9cbf784   \n",
       "115     4564531  3068b616fac2838de6a2d33a6fad60ad   \n",
       "\n",
       "                              user_id                           page_id  \\\n",
       "32   5a96585c3db94eb2ae40e559cbd2e164  94b6ea2316b773afa20925d9b79d5bf8   \n",
       "38   1e2db5d01051fc65fffc6c27f34400a3  48c8e3f287d814493cff887ff445f535   \n",
       "59   46a6f13750d5032f366349e3e3171678  30559d0b23980e7a778c93c52ba5deca   \n",
       "105  aa77bca62e9a84f5cd8d734c70afd060  70ed6e66458fda7a3164e2633d81ea07   \n",
       "115  aec8ee5450418b5bc97127c2269058ca  14cbe8cf92c259f5d18310347e3cb5cb   \n",
       "\n",
       "         product site_version                 time        title  target  \n",
       "32   accessories      desktop  2019-05-19 09:26:29  banner_show       0  \n",
       "38      sneakers      desktop  2019-05-03 05:34:46  banner_show       0  \n",
       "59      sneakers      desktop  2019-05-19 05:04:32  banner_show       0  \n",
       "105     sneakers      desktop  2019-05-29 17:51:46  banner_show       0  \n",
       "115     sneakers      desktop  2019-05-04 09:33:44  banner_show       0  "
      ]
     },
     "execution_count": 16,
     "metadata": {},
     "output_type": "execute_result"
    }
   ],
   "source": [
    "df_AB.head()"
   ]
  },
  {
   "cell_type": "code",
   "execution_count": 17,
   "metadata": {
    "ExecuteTime": {
     "end_time": "2022-03-18T18:26:18.961091Z",
     "start_time": "2022-03-18T18:26:18.945426Z"
    }
   },
   "outputs": [
    {
     "data": {
      "text/plain": [
       "sneakers       13269\n",
       "accessories    12703\n",
       "Name: product, dtype: int64"
      ]
     },
     "execution_count": 17,
     "metadata": {},
     "output_type": "execute_result"
    }
   ],
   "source": [
    "df_AB['product'].value_counts()"
   ]
  },
  {
   "cell_type": "code",
   "execution_count": 18,
   "metadata": {
    "ExecuteTime": {
     "end_time": "2022-03-18T18:26:45.555689Z",
     "start_time": "2022-03-18T18:26:45.539584Z"
    }
   },
   "outputs": [
    {
     "data": {
      "text/plain": [
       "desktop    25972\n",
       "Name: site_version, dtype: int64"
      ]
     },
     "execution_count": 18,
     "metadata": {},
     "output_type": "execute_result"
    }
   ],
   "source": [
    "df_AB['site_version'].value_counts()"
   ]
  },
  {
   "cell_type": "code",
   "execution_count": null,
   "metadata": {
    "scrolled": true
   },
   "outputs": [],
   "source": [
    "# sniff test!"
   ]
  },
  {
   "cell_type": "markdown",
   "metadata": {},
   "source": [
    "### What Test Would Make Sense?"
   ]
  },
  {
   "cell_type": "markdown",
   "metadata": {},
   "source": [
    "Since we're comparing the frequency of conversions of customers who saw the \"sneakers\" banner against those who saw the \"accessories\" banner, we can use a $\\chi^2$ test.\n",
    "\n",
    "Note there are other hypothesis tests we can use but this should be fine since it should fit our criteria."
   ]
  },
  {
   "cell_type": "markdown",
   "metadata": {},
   "source": [
    "### The Hypotheses"
   ]
  },
  {
   "cell_type": "markdown",
   "metadata": {},
   "source": [
    "$H_0$: No difference\n",
    "\n",
    "$H_1$: Sneakers are more or less likely to convert when \"Sneakers\" banner is used. "
   ]
  },
  {
   "cell_type": "markdown",
   "metadata": {},
   "source": [
    "### Setting a Threshold"
   ]
  },
  {
   "cell_type": "markdown",
   "metadata": {},
   "source": [
    "We'll set a false-positive rate of $\\alpha = 0.05$."
   ]
  },
  {
   "cell_type": "markdown",
   "metadata": {},
   "source": [
    "## $\\chi^2$ Test"
   ]
  },
  {
   "cell_type": "markdown",
   "metadata": {},
   "source": [
    "### Setup the Data"
   ]
  },
  {
   "cell_type": "markdown",
   "metadata": {},
   "source": [
    "We need our contingency table: the numbers of people who did or did not submit orders, both for the accessories banner and the sneakers banner. "
   ]
  },
  {
   "cell_type": "code",
   "execution_count": 19,
   "metadata": {
    "ExecuteTime": {
     "end_time": "2022-03-18T18:33:05.879655Z",
     "start_time": "2022-03-18T18:33:05.696289Z"
    }
   },
   "outputs": [],
   "source": [
    "# Create the two product types\n",
    "df_acc = df_AB[ df_AB['product'] == 'accessories']\n",
    "df_sn = df_AB[ df_AB['product'] == 'sneakers']"
   ]
  },
  {
   "cell_type": "code",
   "execution_count": 20,
   "metadata": {
    "ExecuteTime": {
     "end_time": "2022-03-18T18:35:03.061789Z",
     "start_time": "2022-03-18T18:35:03.051838Z"
    }
   },
   "outputs": [],
   "source": [
    "# Get number of orders\n",
    "acc_ord = sum(df_acc.target)\n",
    "sn_ord = sum(df_sn.target)"
   ]
  },
  {
   "cell_type": "markdown",
   "metadata": {},
   "source": [
    "To get the numbers of people who didn't submit orders, we get the total number of people who were shown banners and then subtract the numbers of people who did make orders."
   ]
  },
  {
   "cell_type": "code",
   "execution_count": 21,
   "metadata": {
    "ExecuteTime": {
     "end_time": "2022-03-18T18:36:00.252574Z",
     "start_time": "2022-03-18T18:36:00.248308Z"
    }
   },
   "outputs": [],
   "source": [
    "acc_no_ord = len(df_acc) - acc_ord\n",
    "sn_no_ord = len(df_sn) - sn_ord"
   ]
  },
  {
   "cell_type": "code",
   "execution_count": null,
   "metadata": {},
   "outputs": [],
   "source": [
    "# get conversion rates"
   ]
  },
  {
   "cell_type": "code",
   "execution_count": 24,
   "metadata": {
    "ExecuteTime": {
     "end_time": "2022-03-18T18:43:48.671735Z",
     "start_time": "2022-03-18T18:43:48.665051Z"
    }
   },
   "outputs": [],
   "source": [
    "# Create table\n",
    "cont_table = np.array(\n",
    "[\n",
    "        (acc_ord, acc_no_ord),\n",
    "        (sn_ord, sn_no_ord)\n",
    "    \n",
    "    \n",
    "]\n",
    ")"
   ]
  },
  {
   "cell_type": "markdown",
   "metadata": {},
   "source": [
    "### Calculation\n"
   ]
  },
  {
   "cell_type": "code",
   "execution_count": 26,
   "metadata": {
    "ExecuteTime": {
     "end_time": "2022-03-18T18:45:36.843229Z",
     "start_time": "2022-03-18T18:45:36.836006Z"
    },
    "scrolled": true
   },
   "outputs": [
    {
     "data": {
      "text/plain": [
       "(60.94640624666488,\n",
       " 5.86498985882812e-15,\n",
       " 1,\n",
       " array([[  633.38922686, 12069.61077314],\n",
       "        [  661.61077314, 12607.38922686]]))"
      ]
     },
     "execution_count": 26,
     "metadata": {},
     "output_type": "execute_result"
    }
   ],
   "source": [
    "# Chi^2!\n",
    "stats.chi2_contingency(cont_table) "
   ]
  },
  {
   "cell_type": "code",
   "execution_count": 32,
   "metadata": {
    "ExecuteTime": {
     "end_time": "2022-03-18T18:49:54.645094Z",
     "start_time": "2022-03-18T18:49:54.627971Z"
    },
    "scrolled": true
   },
   "outputs": [
    {
     "data": {
      "text/plain": [
       "(60.94640624666488,\n",
       " 5.86498985882812e-15,\n",
       " 1,\n",
       " array([[  633.38922686, 12069.61077314],\n",
       "        [  661.61077314, 12607.38922686]]))"
      ]
     },
     "execution_count": 32,
     "metadata": {},
     "output_type": "execute_result"
    }
   ],
   "source": [
    "stats.contingency.chi2_contingency(cont_table)"
   ]
  },
  {
   "cell_type": "markdown",
   "metadata": {},
   "source": [
    "This extremely low $p$-value suggests that these two groups are genuinely performing differently. In particular, the desktop customers who saw the sneakers banner in May 2019 bought at a higher rate than the desktop customers who saw the accessories banner in May 2019."
   ]
  },
  {
   "cell_type": "markdown",
   "metadata": {},
   "source": [
    "## Interpretation"
   ]
  },
  {
   "cell_type": "code",
   "execution_count": 29,
   "metadata": {
    "ExecuteTime": {
     "end_time": "2022-03-18T18:46:30.157300Z",
     "start_time": "2022-03-18T18:46:30.151916Z"
    }
   },
   "outputs": [
    {
     "data": {
      "text/plain": [
       "array([[  496, 12207],\n",
       "       [  799, 12470]])"
      ]
     },
     "execution_count": 29,
     "metadata": {},
     "output_type": "execute_result"
    }
   ],
   "source": [
    "cont_table"
   ]
  },
  {
   "cell_type": "code",
   "execution_count": 30,
   "metadata": {
    "ExecuteTime": {
     "end_time": "2022-03-18T18:47:32.683196Z",
     "start_time": "2022-03-18T18:47:32.679029Z"
    }
   },
   "outputs": [],
   "source": [
    "# Find the difference in conversion rate\n",
    "accessory_CR, sneaker_CR = cont_table[:, 0] / cont_table.sum(axis=1)"
   ]
  },
  {
   "cell_type": "code",
   "execution_count": 34,
   "metadata": {
    "ExecuteTime": {
     "end_time": "2022-03-18T18:52:22.595685Z",
     "start_time": "2022-03-18T18:52:22.590069Z"
    }
   },
   "outputs": [
    {
     "data": {
      "text/plain": [
       "array([496, 799])"
      ]
     },
     "execution_count": 34,
     "metadata": {},
     "output_type": "execute_result"
    }
   ],
   "source": [
    "cont_table[:, 0]"
   ]
  },
  {
   "cell_type": "code",
   "execution_count": 35,
   "metadata": {
    "ExecuteTime": {
     "end_time": "2022-03-18T18:52:28.430867Z",
     "start_time": "2022-03-18T18:52:28.425461Z"
    }
   },
   "outputs": [
    {
     "data": {
      "text/plain": [
       "array([12703, 13269])"
      ]
     },
     "execution_count": 35,
     "metadata": {},
     "output_type": "execute_result"
    }
   ],
   "source": [
    "cont_table.sum(axis=1)"
   ]
  },
  {
   "cell_type": "code",
   "execution_count": 31,
   "metadata": {
    "ExecuteTime": {
     "end_time": "2022-03-18T18:47:33.814537Z",
     "start_time": "2022-03-18T18:47:33.807750Z"
    }
   },
   "outputs": [
    {
     "name": "stdout",
     "output_type": "stream",
     "text": [
      "Conversion Rate for accessory banner:\n",
      "\t3.905%\n",
      "Conversion Rate for sneaker banner:\n",
      "\t6.022%\n",
      "\n",
      "Absolute difference of CR: 2.117%\n"
     ]
    }
   ],
   "source": [
    "print(f'Conversion Rate for accessory banner:\\n\\t{100*accessory_CR:.3f}%')\n",
    "print(f'Conversion Rate for sneaker banner:\\n\\t{100*sneaker_CR:.3f}%')\n",
    "print('')\n",
    "print(f'Absolute difference of CR: {100*(sneaker_CR-accessory_CR):.3f}%')"
   ]
  },
  {
   "cell_type": "markdown",
   "metadata": {},
   "source": [
    "\n",
    "So we can say:\n",
    "- There was a statistically significant difference at the $\\alpha$-level (confidence level)\n",
    "- The difference was about $2.1\\%$ in favor of the sneaker banner!"
   ]
  },
  {
   "cell_type": "markdown",
   "metadata": {},
   "source": [
    "# Exercise"
   ]
  },
  {
   "cell_type": "markdown",
   "metadata": {},
   "source": [
    "> The company is impressed with what you found and is now wondering if there is a difference in their other banner ads!\n",
    "\n",
    "With your group, look at the same month (May 2019) but compare different platforms ('mobile' vs 'desktop') and or different banner types ('accessories', 'sneakers', 'clothes', 'sports_nutrition'). Just don't repeat the same test we did above 😉"
   ]
  },
  {
   "cell_type": "markdown",
   "metadata": {},
   "source": [
    "Make sure you record what considerations you have for the experiment, what hypothesis test you performed ($H_0$ and $H_1$ too), and your overall conclusion/interpretation for the _business stakeholders_. Is there a follow-up you'd suggest? "
   ]
  },
  {
   "cell_type": "code",
   "execution_count": 60,
   "metadata": {
    "ExecuteTime": {
     "end_time": "2022-03-18T19:24:18.820151Z",
     "start_time": "2022-03-18T19:24:18.795471Z"
    }
   },
   "outputs": [
    {
     "data": {
      "text/html": [
       "<div>\n",
       "<style scoped>\n",
       "    .dataframe tbody tr th:only-of-type {\n",
       "        vertical-align: middle;\n",
       "    }\n",
       "\n",
       "    .dataframe tbody tr th {\n",
       "        vertical-align: top;\n",
       "    }\n",
       "\n",
       "    .dataframe thead th {\n",
       "        text-align: right;\n",
       "    }\n",
       "</style>\n",
       "<table border=\"1\" class=\"dataframe\">\n",
       "  <thead>\n",
       "    <tr style=\"text-align: right;\">\n",
       "      <th></th>\n",
       "      <th>Unnamed: 0</th>\n",
       "      <th>order_id</th>\n",
       "      <th>user_id</th>\n",
       "      <th>page_id</th>\n",
       "      <th>product</th>\n",
       "      <th>site_version</th>\n",
       "      <th>time</th>\n",
       "      <th>title</th>\n",
       "      <th>target</th>\n",
       "    </tr>\n",
       "  </thead>\n",
       "  <tbody>\n",
       "    <tr>\n",
       "      <th>0</th>\n",
       "      <td>4122928</td>\n",
       "      <td>3e6c5e89fdddcaee0eed210ec2c9cadf</td>\n",
       "      <td>90d58d967eb72656e86059ec6f208092</td>\n",
       "      <td>2fdc16a09e0016555dd4da4a3fe84414</td>\n",
       "      <td>accessories</td>\n",
       "      <td>desktop</td>\n",
       "      <td>2019-03-06 08:42:47</td>\n",
       "      <td>banner_show</td>\n",
       "      <td>0</td>\n",
       "    </tr>\n",
       "  </tbody>\n",
       "</table>\n",
       "</div>"
      ],
      "text/plain": [
       "   Unnamed: 0                          order_id  \\\n",
       "0     4122928  3e6c5e89fdddcaee0eed210ec2c9cadf   \n",
       "\n",
       "                            user_id                           page_id  \\\n",
       "0  90d58d967eb72656e86059ec6f208092  2fdc16a09e0016555dd4da4a3fe84414   \n",
       "\n",
       "       product site_version                 time        title  target  \n",
       "0  accessories      desktop  2019-03-06 08:42:47  banner_show       0  "
      ]
     },
     "execution_count": 60,
     "metadata": {},
     "output_type": "execute_result"
    }
   ],
   "source": [
    "df.head(1)"
   ]
  },
  {
   "cell_type": "code",
   "execution_count": 38,
   "metadata": {
    "ExecuteTime": {
     "end_time": "2022-03-18T19:03:17.277009Z",
     "start_time": "2022-03-18T19:03:17.141854Z"
    }
   },
   "outputs": [
    {
     "data": {
      "text/plain": [
       "mobile     718521\n",
       "desktop    281479\n",
       "Name: site_version, dtype: int64"
      ]
     },
     "execution_count": 38,
     "metadata": {},
     "output_type": "execute_result"
    }
   ],
   "source": [
    "df.site_version.value_counts()"
   ]
  },
  {
   "cell_type": "code",
   "execution_count": 61,
   "metadata": {
    "ExecuteTime": {
     "end_time": "2022-03-18T19:24:23.185543Z",
     "start_time": "2022-03-18T19:24:22.879602Z"
    },
    "scrolled": true
   },
   "outputs": [
    {
     "data": {
      "text/html": [
       "<div>\n",
       "<style scoped>\n",
       "    .dataframe tbody tr th:only-of-type {\n",
       "        vertical-align: middle;\n",
       "    }\n",
       "\n",
       "    .dataframe tbody tr th {\n",
       "        vertical-align: top;\n",
       "    }\n",
       "\n",
       "    .dataframe thead th {\n",
       "        text-align: right;\n",
       "    }\n",
       "</style>\n",
       "<table border=\"1\" class=\"dataframe\">\n",
       "  <thead>\n",
       "    <tr style=\"text-align: right;\">\n",
       "      <th></th>\n",
       "      <th>Unnamed: 0</th>\n",
       "      <th>order_id</th>\n",
       "      <th>user_id</th>\n",
       "      <th>page_id</th>\n",
       "      <th>product</th>\n",
       "      <th>site_version</th>\n",
       "      <th>time</th>\n",
       "      <th>title</th>\n",
       "      <th>target</th>\n",
       "    </tr>\n",
       "  </thead>\n",
       "  <tbody>\n",
       "    <tr>\n",
       "      <th>19</th>\n",
       "      <td>4880034</td>\n",
       "      <td>c59e23bca9e3e74b76e5c89591920741</td>\n",
       "      <td>885540374a1549d83561b2a40313ff2e</td>\n",
       "      <td>503567af06c98967c3cc1b97886f9a36</td>\n",
       "      <td>clothes</td>\n",
       "      <td>desktop</td>\n",
       "      <td>2019-05-15 13:40:11</td>\n",
       "      <td>banner_show</td>\n",
       "      <td>0</td>\n",
       "    </tr>\n",
       "  </tbody>\n",
       "</table>\n",
       "</div>"
      ],
      "text/plain": [
       "    Unnamed: 0                          order_id  \\\n",
       "19     4880034  c59e23bca9e3e74b76e5c89591920741   \n",
       "\n",
       "                             user_id                           page_id  \\\n",
       "19  885540374a1549d83561b2a40313ff2e  503567af06c98967c3cc1b97886f9a36   \n",
       "\n",
       "    product site_version                 time        title  target  \n",
       "19  clothes      desktop  2019-05-15 13:40:11  banner_show       0  "
      ]
     },
     "execution_count": 61,
     "metadata": {},
     "output_type": "execute_result"
    }
   ],
   "source": [
    "df_practice = df[df['time'] >= '2019-05-01']\n",
    "df_practice.head(1)"
   ]
  },
  {
   "cell_type": "code",
   "execution_count": 41,
   "metadata": {
    "ExecuteTime": {
     "end_time": "2022-03-18T19:07:37.221398Z",
     "start_time": "2022-03-18T19:07:37.124979Z"
    }
   },
   "outputs": [],
   "source": [
    "df_mob = df_practice[df_practice['site_version'] == 'mobile']\n",
    "df_des = df_practice[df_practice['site_version'] == 'desktop']"
   ]
  },
  {
   "cell_type": "code",
   "execution_count": 43,
   "metadata": {
    "ExecuteTime": {
     "end_time": "2022-03-18T19:07:51.611921Z",
     "start_time": "2022-03-18T19:07:51.589425Z"
    }
   },
   "outputs": [
    {
     "data": {
      "text/html": [
       "<div>\n",
       "<style scoped>\n",
       "    .dataframe tbody tr th:only-of-type {\n",
       "        vertical-align: middle;\n",
       "    }\n",
       "\n",
       "    .dataframe tbody tr th {\n",
       "        vertical-align: top;\n",
       "    }\n",
       "\n",
       "    .dataframe thead th {\n",
       "        text-align: right;\n",
       "    }\n",
       "</style>\n",
       "<table border=\"1\" class=\"dataframe\">\n",
       "  <thead>\n",
       "    <tr style=\"text-align: right;\">\n",
       "      <th></th>\n",
       "      <th>Unnamed: 0</th>\n",
       "      <th>order_id</th>\n",
       "      <th>user_id</th>\n",
       "      <th>page_id</th>\n",
       "      <th>product</th>\n",
       "      <th>site_version</th>\n",
       "      <th>time</th>\n",
       "      <th>title</th>\n",
       "      <th>target</th>\n",
       "    </tr>\n",
       "  </thead>\n",
       "  <tbody>\n",
       "    <tr>\n",
       "      <th>21</th>\n",
       "      <td>5368605</td>\n",
       "      <td>544a8db198f2c93f9efe020d0ccacb47</td>\n",
       "      <td>6882b941b57ca76302c9b7bceac19586</td>\n",
       "      <td>7f6a5bebd21c5bb052219ea59c756435</td>\n",
       "      <td>company</td>\n",
       "      <td>mobile</td>\n",
       "      <td>2019-05-23 20:33:13</td>\n",
       "      <td>banner_click</td>\n",
       "      <td>0</td>\n",
       "    </tr>\n",
       "  </tbody>\n",
       "</table>\n",
       "</div>"
      ],
      "text/plain": [
       "    Unnamed: 0                          order_id  \\\n",
       "21     5368605  544a8db198f2c93f9efe020d0ccacb47   \n",
       "\n",
       "                             user_id                           page_id  \\\n",
       "21  6882b941b57ca76302c9b7bceac19586  7f6a5bebd21c5bb052219ea59c756435   \n",
       "\n",
       "    product site_version                 time         title  target  \n",
       "21  company       mobile  2019-05-23 20:33:13  banner_click       0  "
      ]
     },
     "execution_count": 43,
     "metadata": {},
     "output_type": "execute_result"
    }
   ],
   "source": [
    "df_mob.head(1)"
   ]
  },
  {
   "cell_type": "code",
   "execution_count": 44,
   "metadata": {
    "ExecuteTime": {
     "end_time": "2022-03-18T19:07:58.956783Z",
     "start_time": "2022-03-18T19:07:58.940671Z"
    }
   },
   "outputs": [
    {
     "data": {
      "text/html": [
       "<div>\n",
       "<style scoped>\n",
       "    .dataframe tbody tr th:only-of-type {\n",
       "        vertical-align: middle;\n",
       "    }\n",
       "\n",
       "    .dataframe tbody tr th {\n",
       "        vertical-align: top;\n",
       "    }\n",
       "\n",
       "    .dataframe thead th {\n",
       "        text-align: right;\n",
       "    }\n",
       "</style>\n",
       "<table border=\"1\" class=\"dataframe\">\n",
       "  <thead>\n",
       "    <tr style=\"text-align: right;\">\n",
       "      <th></th>\n",
       "      <th>Unnamed: 0</th>\n",
       "      <th>order_id</th>\n",
       "      <th>user_id</th>\n",
       "      <th>page_id</th>\n",
       "      <th>product</th>\n",
       "      <th>site_version</th>\n",
       "      <th>time</th>\n",
       "      <th>title</th>\n",
       "      <th>target</th>\n",
       "    </tr>\n",
       "  </thead>\n",
       "  <tbody>\n",
       "    <tr>\n",
       "      <th>19</th>\n",
       "      <td>4880034</td>\n",
       "      <td>c59e23bca9e3e74b76e5c89591920741</td>\n",
       "      <td>885540374a1549d83561b2a40313ff2e</td>\n",
       "      <td>503567af06c98967c3cc1b97886f9a36</td>\n",
       "      <td>clothes</td>\n",
       "      <td>desktop</td>\n",
       "      <td>2019-05-15 13:40:11</td>\n",
       "      <td>banner_show</td>\n",
       "      <td>0</td>\n",
       "    </tr>\n",
       "  </tbody>\n",
       "</table>\n",
       "</div>"
      ],
      "text/plain": [
       "    Unnamed: 0                          order_id  \\\n",
       "19     4880034  c59e23bca9e3e74b76e5c89591920741   \n",
       "\n",
       "                             user_id                           page_id  \\\n",
       "19  885540374a1549d83561b2a40313ff2e  503567af06c98967c3cc1b97886f9a36   \n",
       "\n",
       "    product site_version                 time        title  target  \n",
       "19  clothes      desktop  2019-05-15 13:40:11  banner_show       0  "
      ]
     },
     "execution_count": 44,
     "metadata": {},
     "output_type": "execute_result"
    }
   ],
   "source": [
    "df_des.head(1)"
   ]
  },
  {
   "cell_type": "code",
   "execution_count": 50,
   "metadata": {
    "ExecuteTime": {
     "end_time": "2022-03-18T19:12:32.419747Z",
     "start_time": "2022-03-18T19:12:32.380289Z"
    }
   },
   "outputs": [],
   "source": [
    "mob_ord = sum(df_mob.target)\n",
    "des_ord = sum(df_des.target)"
   ]
  },
  {
   "cell_type": "code",
   "execution_count": 54,
   "metadata": {
    "ExecuteTime": {
     "end_time": "2022-03-18T19:13:03.878631Z",
     "start_time": "2022-03-18T19:13:03.871678Z"
    }
   },
   "outputs": [],
   "source": [
    "no_ord_mob = len(df_mob) - mob_ord\n",
    "no_ord_des = len(df_des) - des_ord"
   ]
  },
  {
   "cell_type": "code",
   "execution_count": 55,
   "metadata": {
    "ExecuteTime": {
     "end_time": "2022-03-18T19:13:04.430069Z",
     "start_time": "2022-03-18T19:13:04.425396Z"
    }
   },
   "outputs": [],
   "source": [
    "table2 = np.array(\n",
    "[\n",
    "        (mob_ord, no_ord_mob),\n",
    "        (des_ord, no_ord_des)\n",
    "    \n",
    "    \n",
    "]\n",
    ")"
   ]
  },
  {
   "cell_type": "code",
   "execution_count": 56,
   "metadata": {
    "ExecuteTime": {
     "end_time": "2022-03-18T19:13:04.930425Z",
     "start_time": "2022-03-18T19:13:04.922899Z"
    }
   },
   "outputs": [
    {
     "data": {
      "text/plain": [
       "(2063.9893282896182,\n",
       " 0.0,\n",
       " 1,\n",
       " array([[  4502.39859001, 179432.60140999],\n",
       "        [  1660.60140999,  66179.39859001]]))"
      ]
     },
     "execution_count": 56,
     "metadata": {},
     "output_type": "execute_result"
    }
   ],
   "source": [
    "stats.chi2_contingency(table2) "
   ]
  },
  {
   "cell_type": "code",
   "execution_count": 57,
   "metadata": {
    "ExecuteTime": {
     "end_time": "2022-03-18T19:14:58.843618Z",
     "start_time": "2022-03-18T19:14:58.834395Z"
    }
   },
   "outputs": [
    {
     "data": {
      "text/plain": [
       "(2063.9893282896182,\n",
       " 0.0,\n",
       " 1,\n",
       " array([[  4502.39859001, 179432.60140999],\n",
       "        [  1660.60140999,  66179.39859001]]))"
      ]
     },
     "execution_count": 57,
     "metadata": {},
     "output_type": "execute_result"
    }
   ],
   "source": [
    "stats.contingency.chi2_contingency(table2)"
   ]
  },
  {
   "cell_type": "code",
   "execution_count": 58,
   "metadata": {
    "ExecuteTime": {
     "end_time": "2022-03-18T19:16:43.316715Z",
     "start_time": "2022-03-18T19:16:43.308604Z"
    },
    "scrolled": true
   },
   "outputs": [
    {
     "data": {
      "text/plain": [
       "Power_divergenceResult(statistic=array([1.31794581e+01, 5.51451248e+04]), pvalue=array([0.00028303, 0.        ]))"
      ]
     },
     "execution_count": 58,
     "metadata": {},
     "output_type": "execute_result"
    }
   ],
   "source": [
    "stats.chisquare(table2)"
   ]
  },
  {
   "cell_type": "code",
   "execution_count": 70,
   "metadata": {
    "ExecuteTime": {
     "end_time": "2022-03-18T19:35:38.559163Z",
     "start_time": "2022-03-18T19:35:38.554538Z"
    }
   },
   "outputs": [],
   "source": [
    "accessory_CR, sneaker_CR = table2[:, 0] / table2.sum(axis=1)"
   ]
  },
  {
   "cell_type": "code",
   "execution_count": 71,
   "metadata": {
    "ExecuteTime": {
     "end_time": "2022-03-18T19:35:53.751475Z",
     "start_time": "2022-03-18T19:35:53.745494Z"
    }
   },
   "outputs": [
    {
     "name": "stdout",
     "output_type": "stream",
     "text": [
      "Conversion Rate for accessory banner:\n",
      "\t1.598%\n",
      "Conversion Rate for sneaker banner:\n",
      "\t4.752%\n",
      "\n",
      "Absolute difference of CR: 3.155%\n"
     ]
    }
   ],
   "source": [
    "print(f'Conversion Rate for accessory banner:\\n\\t{100*accessory_CR:.3f}%')\n",
    "print(f'Conversion Rate for sneaker banner:\\n\\t{100*sneaker_CR:.3f}%')\n",
    "print('')\n",
    "print(f'Absolute difference of CR: {100*(sneaker_CR-accessory_CR):.3f}%')"
   ]
  },
  {
   "cell_type": "code",
   "execution_count": null,
   "metadata": {},
   "outputs": [],
   "source": []
  },
  {
   "cell_type": "code",
   "execution_count": 63,
   "metadata": {
    "ExecuteTime": {
     "end_time": "2022-03-18T19:28:22.202822Z",
     "start_time": "2022-03-18T19:28:21.885195Z"
    }
   },
   "outputs": [],
   "source": [
    "product = (df['product'] == 'accessories') | (df['product'] == 'sneakers') | (df['product'] == 'clothes') | (df['product'] == 'sports_nutrition')\n",
    "date = df['time'] >= '2019-05-01'\n",
    "df_pd = df[product & date]"
   ]
  },
  {
   "cell_type": "code",
   "execution_count": 64,
   "metadata": {
    "ExecuteTime": {
     "end_time": "2022-03-18T19:29:53.859247Z",
     "start_time": "2022-03-18T19:29:53.742982Z"
    }
   },
   "outputs": [],
   "source": [
    "df_acc = df_pd[ df_pd['product'] == 'accessories']\n",
    "df_sn = df_pd[ df_pd['product'] == 'sneakers']\n",
    "df_cl = df_pd[ df_pd['product'] == 'clothes']\n",
    "df_spr = df_pd[ df_pd['product'] == 'sports_nutrition']\n",
    "\n"
   ]
  },
  {
   "cell_type": "code",
   "execution_count": 65,
   "metadata": {
    "ExecuteTime": {
     "end_time": "2022-03-18T19:31:18.220655Z",
     "start_time": "2022-03-18T19:31:18.184425Z"
    }
   },
   "outputs": [],
   "source": [
    "acc_ord = sum(df_acc.target)\n",
    "sn_ord = sum(df_sn.target)\n",
    "cl_ord = sum(df_cl.target)\n",
    "spr_ord = sum(df_spr.target)\n"
   ]
  },
  {
   "cell_type": "code",
   "execution_count": 66,
   "metadata": {
    "ExecuteTime": {
     "end_time": "2022-03-18T19:32:27.139301Z",
     "start_time": "2022-03-18T19:32:27.130843Z"
    }
   },
   "outputs": [],
   "source": [
    "acc_no_ord = len(df_acc) - acc_ord\n",
    "sn_no_ord = len(df_sn) - sn_ord\n",
    "cl_no_ord = len(df_cl) - cl_ord\n",
    "spr_no_ord = len(df_spr) - spr_ord\n"
   ]
  },
  {
   "cell_type": "code",
   "execution_count": 68,
   "metadata": {
    "ExecuteTime": {
     "end_time": "2022-03-18T19:33:31.643294Z",
     "start_time": "2022-03-18T19:33:31.638623Z"
    }
   },
   "outputs": [],
   "source": [
    "table3 = np.array(\n",
    "[\n",
    "        (acc_ord, acc_no_ord),\n",
    "        (sn_ord, sn_no_ord),\n",
    "        (cl_ord, cl_no_ord),\n",
    "        (spr_ord, spr_no_ord)\n",
    "    \n",
    "    \n",
    "]\n",
    ")"
   ]
  },
  {
   "cell_type": "code",
   "execution_count": 69,
   "metadata": {
    "ExecuteTime": {
     "end_time": "2022-03-18T19:33:46.701025Z",
     "start_time": "2022-03-18T19:33:46.686663Z"
    }
   },
   "outputs": [
    {
     "data": {
      "text/plain": [
       "(1418.038292133385,\n",
       " 3.589114233676982e-307,\n",
       " 3,\n",
       " array([[ 1459.9833512 , 46705.0166488 ],\n",
       "        [ 1551.79876843, 49642.20123157],\n",
       "        [ 1620.21322755, 51830.78677245],\n",
       "        [ 1531.00465281, 48976.99534719]]))"
      ]
     },
     "execution_count": 69,
     "metadata": {},
     "output_type": "execute_result"
    }
   ],
   "source": [
    "stats.chi2_contingency(table3) "
   ]
  },
  {
   "cell_type": "code",
   "execution_count": null,
   "metadata": {},
   "outputs": [],
   "source": []
  },
  {
   "cell_type": "code",
   "execution_count": null,
   "metadata": {},
   "outputs": [],
   "source": []
  }
 ],
 "metadata": {
  "kernelspec": {
   "display_name": "Python 3",
   "language": "python",
   "name": "python3"
  },
  "language_info": {
   "codemirror_mode": {
    "name": "ipython",
    "version": 3
   },
   "file_extension": ".py",
   "mimetype": "text/x-python",
   "name": "python",
   "nbconvert_exporter": "python",
   "pygments_lexer": "ipython3",
   "version": "3.8.5"
  },
  "toc": {
   "base_numbering": 1,
   "nav_menu": {},
   "number_sections": true,
   "sideBar": true,
   "skip_h1_title": false,
   "title_cell": "Table of Contents",
   "title_sidebar": "TOC",
   "toc_cell": true,
   "toc_position": {
    "height": "calc(100% - 180px)",
    "left": "10px",
    "top": "150px",
    "width": "288px"
   },
   "toc_section_display": true,
   "toc_window_display": false
  },
  "varInspector": {
   "cols": {
    "lenName": 16,
    "lenType": 16,
    "lenVar": 40
   },
   "kernels_config": {
    "python": {
     "delete_cmd_postfix": "",
     "delete_cmd_prefix": "del ",
     "library": "var_list.py",
     "varRefreshCmd": "print(var_dic_list())"
    },
    "r": {
     "delete_cmd_postfix": ") ",
     "delete_cmd_prefix": "rm(",
     "library": "var_list.r",
     "varRefreshCmd": "cat(var_dic_list()) "
    }
   },
   "types_to_exclude": [
    "module",
    "function",
    "builtin_function_or_method",
    "instance",
    "_Feature"
   ],
   "window_display": false
  }
 },
 "nbformat": 4,
 "nbformat_minor": 4
}
