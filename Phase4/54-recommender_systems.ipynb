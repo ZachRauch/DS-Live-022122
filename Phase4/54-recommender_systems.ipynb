{
 "cells": [
  {
   "cell_type": "markdown",
   "metadata": {},
   "source": [
    "# Recommender Systems"
   ]
  },
  {
   "cell_type": "code",
   "execution_count": 1,
   "metadata": {
    "ExecuteTime": {
     "end_time": "2022-04-25T18:17:46.028939Z",
     "start_time": "2022-04-25T18:17:45.225441Z"
    }
   },
   "outputs": [],
   "source": [
    "from random import gauss as gs, uniform as uni, seed\n",
    "import numpy as np\n",
    "import pandas as pd\n",
    "from sklearn.linear_model import LinearRegression"
   ]
  },
  {
   "cell_type": "markdown",
   "metadata": {},
   "source": [
    "![Netflix](https://miro.medium.com/max/1400/1*jlQxemlP9Yim_rWTqlCFDQ.png)"
   ]
  },
  {
   "cell_type": "markdown",
   "metadata": {},
   "source": [
    "![Amazon](images/amazon_recommender.png)"
   ]
  },
  {
   "cell_type": "markdown",
   "metadata": {},
   "source": [
    "## Agenda"
   ]
  },
  {
   "cell_type": "markdown",
   "metadata": {},
   "source": [
    "- describe the difference between content-based and collaborative-filtering algorithms\n",
    "- explain and use the cosine similarity metric\n",
    "- describe the algorithm of alternating least-squares"
   ]
  },
  {
   "cell_type": "markdown",
   "metadata": {},
   "source": [
    "## Intro"
   ]
  },
  {
   "cell_type": "markdown",
   "metadata": {},
   "source": [
    "Recommender systems can be classified along various lines. One fundamental distinction is **content-based** vs. **collaborative-filtering** systems.\n",
    "\n",
    "To illustrate this, consider two different strategies: (a) I recommend items to you that are *similar to other items* you've used/bought/read/watched; and (b) I recommend items to you that people *similar to you* have used/bought/read/watched. The first is the **content-based strategy**; the second is the **collaborative-filtering strategy**. \n",
    "\n",
    "Another distinction drawn is in whether (a) the system uses existing ratings to compute user-user or item-item similarity, or (b) the system uses machine learning techniques to make predictions. Recommenders of the first sort are called **memory-based**; recommenders of the second sort are called **model-based**."
   ]
  },
  {
   "cell_type": "markdown",
   "metadata": {},
   "source": [
    "## Content-Based Systems"
   ]
  },
  {
   "cell_type": "markdown",
   "metadata": {},
   "source": [
    "The basic idea here is to recommend items to a user that are *similar to* items that the user has already enjoyed. Suppose we represent TV shows as rows, where the columns represent various features of these TV shows. These features might be things like the presence of a certain actor or the show fitting into a particular genre etc. We'll just use binary features here, perhaps the result of some one-hot encoding:"
   ]
  },
  {
   "cell_type": "code",
   "execution_count": 2,
   "metadata": {
    "ExecuteTime": {
     "end_time": "2022-04-25T18:21:50.743867Z",
     "start_time": "2022-04-25T18:21:50.713620Z"
    }
   },
   "outputs": [
    {
     "data": {
      "text/plain": [
       "array([[0, 1, 1, 0, 1, 1, 1],\n",
       "       [0, 0, 0, 1, 1, 1, 0],\n",
       "       [1, 1, 1, 0, 0, 1, 1],\n",
       "       [0, 1, 1, 1, 0, 0, 1]])"
      ]
     },
     "execution_count": 2,
     "metadata": {},
     "output_type": "execute_result"
    }
   ],
   "source": [
    "tv_shows = np.array([[0, 1, 1, 0, 1, 1, 1],\n",
    "                   [0, 0, 0, 1, 1, 1, 0],\n",
    "                   [1, 1, 1, 0, 0, 1, 1],\n",
    "                   [0, 1, 1, 1, 0, 0, 1]])\n",
    "\n",
    "tv_shows"
   ]
  },
  {
   "cell_type": "markdown",
   "metadata": {},
   "source": [
    "Bob likes the TV Show represented by Row \\#1. Which show (row) should we recommend to Bob?\n",
    "\n",
    "One natural way of measuring the similarity between two vectors is by the **cosine of the angle between them**. Two points near one another in feature space will correspond to vectors that nearly overlap, i.e. vectors that describe a small angle $\\theta$. And as $\\theta$ decreases, $\\cos(\\theta)$ *increases*. So we'll be looking for large values of the cosine (which ranges between -1 and 1). We can also think of the cosine between two vectors as the *projection of one vector onto the other*:\n",
    "\n",
    "![image.png](https://www.oreilly.com/library/view/statistics-for-machine/9781788295758/assets/2b4a7a82-ad4c-4b2a-b808-e423a334de6f.png)\n",
    "\n",
    "We can use this metric easily if we treat our rows (the items we're comparing for similarity) as vectors: We can calculate the cosine of the angle $\\theta$ between two vectors $\\vec{a}$ and $\\vec{b}$ as follows: $\\cos(\\theta) = \\frac{\\vec{a}\\cdot\\vec{b}}{|\\vec{a}||\\vec{b}|}$"
   ]
  },
  {
   "cell_type": "code",
   "execution_count": 3,
   "metadata": {
    "ExecuteTime": {
     "end_time": "2022-04-25T18:22:43.614712Z",
     "start_time": "2022-04-25T18:22:43.606862Z"
    }
   },
   "outputs": [],
   "source": [
    "numerators = np.array([tv_shows[0].dot(tv_show) for tv_show in tv_shows[1:]])"
   ]
  },
  {
   "cell_type": "code",
   "execution_count": 4,
   "metadata": {
    "ExecuteTime": {
     "end_time": "2022-04-25T18:22:45.052998Z",
     "start_time": "2022-04-25T18:22:45.046800Z"
    }
   },
   "outputs": [
    {
     "data": {
      "text/plain": [
       "array([2, 4, 3])"
      ]
     },
     "execution_count": 4,
     "metadata": {},
     "output_type": "execute_result"
    }
   ],
   "source": [
    "numerators"
   ]
  },
  {
   "cell_type": "code",
   "execution_count": 5,
   "metadata": {
    "ExecuteTime": {
     "end_time": "2022-04-25T18:22:56.418839Z",
     "start_time": "2022-04-25T18:22:56.412889Z"
    }
   },
   "outputs": [],
   "source": [
    "denominators = np.array(\n",
    "    [(np.linalg.norm(tv_shows[0]) * np.linalg.norm(tv_show)) for tv_show in tv_shows[1:]]\n",
    ")"
   ]
  },
  {
   "cell_type": "code",
   "execution_count": 6,
   "metadata": {
    "ExecuteTime": {
     "end_time": "2022-04-25T18:22:57.652885Z",
     "start_time": "2022-04-25T18:22:57.644213Z"
    }
   },
   "outputs": [
    {
     "data": {
      "text/plain": [
       "array([3.87298335, 5.        , 4.47213595])"
      ]
     },
     "execution_count": 6,
     "metadata": {},
     "output_type": "execute_result"
    }
   ],
   "source": [
    "denominators"
   ]
  },
  {
   "cell_type": "code",
   "execution_count": 7,
   "metadata": {
    "ExecuteTime": {
     "end_time": "2022-04-25T18:22:58.228811Z",
     "start_time": "2022-04-25T18:22:58.222480Z"
    }
   },
   "outputs": [
    {
     "data": {
      "text/plain": [
       "array([0.51639778, 0.8       , 0.67082039])"
      ]
     },
     "execution_count": 7,
     "metadata": {},
     "output_type": "execute_result"
    }
   ],
   "source": [
    "numerators / denominators"
   ]
  },
  {
   "cell_type": "markdown",
   "metadata": {},
   "source": [
    "Since the cosine similarity to Row \\#1 is highest for Row \\#3, we would recommend this TV show."
   ]
  },
  {
   "cell_type": "markdown",
   "metadata": {},
   "source": [
    "***"
   ]
  },
  {
   "cell_type": "markdown",
   "metadata": {},
   "source": [
    "## Collaborative Filtering\n",
    "\n",
    "Now the idea is to recommend items to a user based on what *similar* users have enjoyed. Suppose we have the following recording of explicit ratings of five items by three users:"
   ]
  },
  {
   "cell_type": "code",
   "execution_count": 8,
   "metadata": {
    "ExecuteTime": {
     "end_time": "2022-04-25T18:33:53.568422Z",
     "start_time": "2022-04-25T18:33:53.547416Z"
    },
    "scrolled": true
   },
   "outputs": [
    {
     "data": {
      "text/plain": [
       "array([[5, 4, 3, 4, 5],\n",
       "       [3, 1, 1, 2, 5],\n",
       "       [4, 2, 3, 1, 4]])"
      ]
     },
     "execution_count": 8,
     "metadata": {},
     "output_type": "execute_result"
    }
   ],
   "source": [
    "users = np.array([[5, 4, 3, 4, 5], [3, 1, 1, 2, 5], [4, 2, 3, 1, 4]])\n",
    "\n",
    "new_user = np.array([5, 0, 0, 0, 0])\n",
    "users"
   ]
  },
  {
   "cell_type": "markdown",
   "metadata": {},
   "source": [
    "To which user is `new_user` most similar?\n",
    "\n",
    "One metric is cosine similarity:"
   ]
  },
  {
   "cell_type": "code",
   "execution_count": 9,
   "metadata": {
    "ExecuteTime": {
     "end_time": "2022-04-25T18:33:55.083887Z",
     "start_time": "2022-04-25T18:33:55.078505Z"
    }
   },
   "outputs": [],
   "source": [
    "new_user_mag = 5\n",
    "\n",
    "numerators = np.array([new_user.dot(user) for user in users])"
   ]
  },
  {
   "cell_type": "code",
   "execution_count": 10,
   "metadata": {
    "ExecuteTime": {
     "end_time": "2022-04-25T18:33:58.454797Z",
     "start_time": "2022-04-25T18:33:58.447673Z"
    }
   },
   "outputs": [
    {
     "data": {
      "text/plain": [
       "array([25, 15, 20])"
      ]
     },
     "execution_count": 10,
     "metadata": {},
     "output_type": "execute_result"
    }
   ],
   "source": [
    "numerators"
   ]
  },
  {
   "cell_type": "code",
   "execution_count": 11,
   "metadata": {
    "ExecuteTime": {
     "end_time": "2022-04-25T18:33:59.085464Z",
     "start_time": "2022-04-25T18:33:59.079912Z"
    }
   },
   "outputs": [],
   "source": [
    "denominators = np.array(\n",
    "    [(np.linalg.norm(new_user) * np.linalg.norm(user)) for user in users]\n",
    ")"
   ]
  },
  {
   "cell_type": "code",
   "execution_count": 12,
   "metadata": {
    "ExecuteTime": {
     "end_time": "2022-04-25T18:33:59.882002Z",
     "start_time": "2022-04-25T18:33:59.873923Z"
    }
   },
   "outputs": [
    {
     "data": {
      "text/plain": [
       "array([47.69696007, 31.6227766 , 33.91164992])"
      ]
     },
     "execution_count": 12,
     "metadata": {},
     "output_type": "execute_result"
    }
   ],
   "source": [
    "denominators"
   ]
  },
  {
   "cell_type": "code",
   "execution_count": 13,
   "metadata": {
    "ExecuteTime": {
     "end_time": "2022-04-25T18:34:00.107763Z",
     "start_time": "2022-04-25T18:34:00.096732Z"
    }
   },
   "outputs": [
    {
     "data": {
      "text/plain": [
       "array([0.52414242, 0.47434165, 0.58976782])"
      ]
     },
     "execution_count": 13,
     "metadata": {},
     "output_type": "execute_result"
    }
   ],
   "source": [
    "numerators / denominators"
   ]
  },
  {
   "cell_type": "markdown",
   "metadata": {},
   "source": [
    "But we could also use another metric, such as Pearson Correlation:"
   ]
  },
  {
   "cell_type": "code",
   "execution_count": 14,
   "metadata": {
    "ExecuteTime": {
     "end_time": "2022-04-25T18:34:02.059943Z",
     "start_time": "2022-04-25T18:34:02.045046Z"
    }
   },
   "outputs": [
    {
     "data": {
      "text/plain": [
       "[0.5345224838248488, 0.20044593143431824, 0.5144957554275266]"
      ]
     },
     "execution_count": 14,
     "metadata": {},
     "output_type": "execute_result"
    }
   ],
   "source": [
    "[np.corrcoef(new_user, user)[0, 1] for user in users]"
   ]
  },
  {
   "cell_type": "markdown",
   "metadata": {},
   "source": [
    "For more on content-based vs. collaborative systems, see [this Wikipedia article](https://en.wikipedia.org/wiki/Collaborative_filtering) and [this blog post](https://towardsdatascience.com/recommendation-systems-models-and-evaluation-84944a84fb8e). [This post](https://dataconomy.com/2015/03/an-introduction-to-recommendation-engines/) on dataconomy is also useful."
   ]
  },
  {
   "cell_type": "markdown",
   "metadata": {},
   "source": [
    "***"
   ]
  },
  {
   "cell_type": "markdown",
   "metadata": {},
   "source": [
    "## Matrix Factorization\n",
    "\n",
    "Suppose we start with a matrix $R$ of users and products, where each cell records the ranking the relevant user gave to the relevant product. Very often we'll be able to record this data as a sparse matrix, because many users will not have ranked many items.\n",
    "\n",
    "Imagine factoring this matrix into a user matrix $P$ and an item matrix $Q^T$: $R = PQ^T$. What would the shapes of $P$ and $Q^T$ be? Clearly $P$ must have as many rows as $R$, which is just the number of users who have given ratings. Similarly, $Q^T$ must have as many columns as $R$, which is just the number of items that have received ratings. We also know that the number of columns of $P$ must match the number of rows of $Q^T$ for the factorization to be possible, but this number could really be anything. In practice this will be a small number, and for reasons that will emerge shortly let's refer to these dimensions as **latent features** of the items in $R$. If $p$ is a row of $P$, i.e. a user-vector, and $q$ is a column of $Q^T$, i.e. an item-vector, then $p$ will record the user's particular weights or *preferences* with respect to the latent features, while $q$ will record how the item ranks with respect to those same latent features. This in turn means that we could predict a user's ranking of a particular item simply by calculating the dot-product of $p$ and $q$! \n",
    "\n",
    "If we could effect such a factorization, $R = PQ^T$, then we could calculate *all* predictions, i.e. fill in the gaps in $R$, by solving for $P$ and $Q$.\n",
    "\n",
    "The isolation of these latent features can be achieved in various ways. But this is at heart a matter of **dimensionality reduction**, and so one way is with the [SVD](https://hackernoon.com/introduction-to-recommender-system-part-1-collaborative-filtering-singular-value-decomposition-44c9659c5e75).\n",
    "\n",
    "An alternative is to use the method of Alternating Least Squares."
   ]
  },
  {
   "cell_type": "markdown",
   "metadata": {},
   "source": [
    "### Alternating Least-Squares (ALS)\n",
    "\n",
    "ALS recommendation systems are often implemented in Spark architectures because of the appropriateness for distributed computing. ALS systems often involve very large datasets (consider how much data the recommendation engine for NETFLIX must have, for example!), and it is often useful to store them as sparse matrices, which Spark's ML library can handle. In fact, Spark's mllib even includes a \"Rating\" datatype! ALS is **collaborative** and **model-based**, and is especially useful for working with *implicit* ratings.\n",
    "\n",
    "We're looking for two matrices (a user matrix and an item matrix) into which we can factor our ratings matrix. We can't of course solve for two matrices at once. But here's what we can do:\n",
    "\n",
    "Make guesses of the values for $P$ and $Q$. Then hold the values of one *constant* so that we can optimize for the values of the other!\n",
    "\n",
    "Basically this converts our problem into a familiar *least-squares* problem. See [this page](https://textbooks.math.gatech.edu/ila/least-squares.html) and [this page](https://datasciencemadesimpler.wordpress.com/tag/alternating-least-squares/) for more details, but here's the basic idea:"
   ]
  },
  {
   "cell_type": "markdown",
   "metadata": {},
   "source": [
    "If we have an equation $Ax = b$ for *non-square* $A$, then we have:\n",
    "\n",
    "$A^TAx = A^Tb$ <br/>\n",
    "Thus: <br/>\n",
    "$x = (A^TA)^{-1}A^Tb$\n",
    "\n",
    "This $(A^TA)^{-1}A^T$ **is the pseudo-inverse of** $A$. We encountered this before in our whirlwind tour of linear algebra."
   ]
  },
  {
   "cell_type": "code",
   "execution_count": 15,
   "metadata": {
    "ExecuteTime": {
     "end_time": "2022-04-25T18:52:28.793982Z",
     "start_time": "2022-04-25T18:52:28.768792Z"
    }
   },
   "outputs": [],
   "source": [
    "np.random.seed(42)\n",
    "\n",
    "A = np.random.rand(5, 5)\n",
    "b = np.random.rand(5, 1)"
   ]
  },
  {
   "cell_type": "code",
   "execution_count": 16,
   "metadata": {
    "ExecuteTime": {
     "end_time": "2022-04-25T18:52:35.970671Z",
     "start_time": "2022-04-25T18:52:35.962086Z"
    }
   },
   "outputs": [
    {
     "data": {
      "text/plain": [
       "array([[0.37454012, 0.95071431, 0.73199394, 0.59865848, 0.15601864],\n",
       "       [0.15599452, 0.05808361, 0.86617615, 0.60111501, 0.70807258],\n",
       "       [0.02058449, 0.96990985, 0.83244264, 0.21233911, 0.18182497],\n",
       "       [0.18340451, 0.30424224, 0.52475643, 0.43194502, 0.29122914],\n",
       "       [0.61185289, 0.13949386, 0.29214465, 0.36636184, 0.45606998]])"
      ]
     },
     "execution_count": 16,
     "metadata": {},
     "output_type": "execute_result"
    }
   ],
   "source": [
    "A"
   ]
  },
  {
   "cell_type": "code",
   "execution_count": 17,
   "metadata": {
    "ExecuteTime": {
     "end_time": "2022-04-25T18:52:41.929325Z",
     "start_time": "2022-04-25T18:52:41.923040Z"
    }
   },
   "outputs": [
    {
     "data": {
      "text/plain": [
       "array([[0.78517596],\n",
       "       [0.19967378],\n",
       "       [0.51423444],\n",
       "       [0.59241457],\n",
       "       [0.04645041]])"
      ]
     },
     "execution_count": 17,
     "metadata": {},
     "output_type": "execute_result"
    }
   ],
   "source": [
    "b"
   ]
  },
  {
   "cell_type": "code",
   "execution_count": 18,
   "metadata": {
    "ExecuteTime": {
     "end_time": "2022-04-25T18:52:45.843409Z",
     "start_time": "2022-04-25T18:52:45.827386Z"
    }
   },
   "outputs": [
    {
     "data": {
      "text/plain": [
       "array([[-226.17808974],\n",
       "       [ 218.48756728],\n",
       "       [-362.56506519],\n",
       "       [ 147.90541489],\n",
       "       [ 350.1459068 ]])"
      ]
     },
     "execution_count": 18,
     "metadata": {},
     "output_type": "execute_result"
    }
   ],
   "source": [
    "np.linalg.inv(A.T.dot(A)).dot(A.T).dot(b)"
   ]
  },
  {
   "cell_type": "markdown",
   "metadata": {},
   "source": [
    "The `numpy` library has a shortcut for this: `numpy.linalg.pinv()`:"
   ]
  },
  {
   "cell_type": "code",
   "execution_count": 19,
   "metadata": {
    "ExecuteTime": {
     "end_time": "2022-04-25T18:52:46.954453Z",
     "start_time": "2022-04-25T18:52:46.939810Z"
    }
   },
   "outputs": [
    {
     "data": {
      "text/plain": [
       "array([[-226.17808981],\n",
       "       [ 218.48756735],\n",
       "       [-362.56506531],\n",
       "       [ 147.90541493],\n",
       "       [ 350.14590691]])"
      ]
     },
     "execution_count": 19,
     "metadata": {},
     "output_type": "execute_result"
    }
   ],
   "source": [
    "np.linalg.pinv(A).dot(b)"
   ]
  },
  {
   "cell_type": "markdown",
   "metadata": {},
   "source": [
    "\"When we talk about collaborative filtering for recommender systems we want to solve the problem of our original matrix having millions of different dimensions, but our 'tastes' not being nearly as complex. Even if i’ve \\[sic\\] viewed hundreds of items they might just express a couple of different tastes. Here we can actually use matrix factorization to mathematically reduce the dimensionality of our original 'all users by all items' matrix into something much smaller that represents 'all items by some taste dimensions' and 'all users by some taste dimensions'. These dimensions are called ***latent or hidden features*** and we learn them from our data\" ([Medium article: \"ALS Implicit Collaborative Filtering\"](https://medium.com/radon-dev/als-implicit-collaborative-filtering-5ed653ba39fe))."
   ]
  },
  {
   "cell_type": "markdown",
   "metadata": {},
   "source": [
    "#### Simple Example\n",
    "\n",
    "Suppose Max and Erin have rated five films:"
   ]
  },
  {
   "cell_type": "code",
   "execution_count": 20,
   "metadata": {
    "ExecuteTime": {
     "end_time": "2022-04-25T18:54:46.389801Z",
     "start_time": "2022-04-25T18:54:46.337175Z"
    }
   },
   "outputs": [
    {
     "data": {
      "text/html": [
       "<div>\n",
       "<style scoped>\n",
       "    .dataframe tbody tr th:only-of-type {\n",
       "        vertical-align: middle;\n",
       "    }\n",
       "\n",
       "    .dataframe tbody tr th {\n",
       "        vertical-align: top;\n",
       "    }\n",
       "\n",
       "    .dataframe thead th {\n",
       "        text-align: right;\n",
       "    }\n",
       "</style>\n",
       "<table border=\"1\" class=\"dataframe\">\n",
       "  <thead>\n",
       "    <tr style=\"text-align: right;\">\n",
       "      <th></th>\n",
       "      <th>film1</th>\n",
       "      <th>film2</th>\n",
       "      <th>film3</th>\n",
       "      <th>film4</th>\n",
       "      <th>film5</th>\n",
       "    </tr>\n",
       "  </thead>\n",
       "  <tbody>\n",
       "    <tr>\n",
       "      <th>max</th>\n",
       "      <td>0</td>\n",
       "      <td>1</td>\n",
       "      <td>0</td>\n",
       "      <td>0</td>\n",
       "      <td>4</td>\n",
       "    </tr>\n",
       "    <tr>\n",
       "      <th>erin</th>\n",
       "      <td>0</td>\n",
       "      <td>0</td>\n",
       "      <td>0</td>\n",
       "      <td>5</td>\n",
       "      <td>0</td>\n",
       "    </tr>\n",
       "  </tbody>\n",
       "</table>\n",
       "</div>"
      ],
      "text/plain": [
       "      film1  film2  film3  film4  film5\n",
       "max       0      1      0      0      4\n",
       "erin      0      0      0      5      0"
      ]
     },
     "execution_count": 20,
     "metadata": {},
     "output_type": "execute_result"
    }
   ],
   "source": [
    "ratings_arr = pd.DataFrame([[0, 1, 0, 0, 4], [0, 0, 0, 5, 0]],\\\n",
    "                           index=['max', 'erin'],\n",
    "             columns=['film' + str(i) for i in range(1, 6)])\n",
    "ratings_arr"
   ]
  },
  {
   "cell_type": "markdown",
   "metadata": {},
   "source": [
    "Suppose now that we isolate ten latent features of these films, and that we can capture our users, i.e. the tastes of Max and Erin, according to these features. (We'll just fill out a matrix randomly.)"
   ]
  },
  {
   "cell_type": "code",
   "execution_count": 21,
   "metadata": {
    "ExecuteTime": {
     "end_time": "2022-04-25T18:55:47.585822Z",
     "start_time": "2022-04-25T18:55:47.574572Z"
    }
   },
   "outputs": [],
   "source": [
    "seed(100)\n",
    "users = []\n",
    "\n",
    "for _ in range(2):\n",
    "    user = []\n",
    "    for _ in range(10):\n",
    "        user.append(gs(0, 1))\n",
    "    users.append(user)\n",
    "users_arr = np.array(users)"
   ]
  },
  {
   "cell_type": "code",
   "execution_count": 22,
   "metadata": {
    "ExecuteTime": {
     "end_time": "2022-04-25T18:55:47.830292Z",
     "start_time": "2022-04-25T18:55:47.822060Z"
    }
   },
   "outputs": [
    {
     "data": {
      "text/plain": [
       "array([[ 0.67155333,  0.87331967,  0.20361655, -1.55034921, -0.12059128,\n",
       "        -1.05927574,  0.38143697, -1.17342904,  0.96637182,  0.53248343],\n",
       "       [ 2.22041991,  0.68901284,  0.85436449, -0.29504752, -0.62335055,\n",
       "         1.5917369 ,  0.17920475,  0.60086339,  0.3474319 ,  0.85537186]])"
      ]
     },
     "execution_count": 22,
     "metadata": {},
     "output_type": "execute_result"
    }
   ],
   "source": [
    "users_arr"
   ]
  },
  {
   "cell_type": "markdown",
   "metadata": {},
   "source": [
    "Now we'll make another random matrix that expresses *our items* in terms of these latent features."
   ]
  },
  {
   "cell_type": "code",
   "execution_count": 23,
   "metadata": {
    "ExecuteTime": {
     "end_time": "2022-04-25T18:55:56.798612Z",
     "start_time": "2022-04-25T18:55:56.791254Z"
    }
   },
   "outputs": [],
   "source": [
    "seed(100)\n",
    "items = []\n",
    "\n",
    "for _ in range(5):\n",
    "    item = []\n",
    "    for _ in range(10):\n",
    "        item.append(gs(0, 1))\n",
    "    items.append(item)\n",
    "items_arr = np.array(items)"
   ]
  },
  {
   "cell_type": "code",
   "execution_count": 24,
   "metadata": {
    "ExecuteTime": {
     "end_time": "2022-04-25T18:55:57.173094Z",
     "start_time": "2022-04-25T18:55:57.163234Z"
    }
   },
   "outputs": [
    {
     "data": {
      "text/plain": [
       "array([[ 0.67155333,  0.87331967,  0.20361655, -1.55034921, -0.12059128,\n",
       "        -1.05927574,  0.38143697, -1.17342904,  0.96637182,  0.53248343],\n",
       "       [ 2.22041991,  0.68901284,  0.85436449, -0.29504752, -0.62335055,\n",
       "         1.5917369 ,  0.17920475,  0.60086339,  0.3474319 ,  0.85537186],\n",
       "       [-1.80291827, -1.83311295,  0.60911087,  2.4250145 , -2.02233576,\n",
       "        -0.73382756,  0.24510831, -0.53817586, -0.30637608, -0.41367264],\n",
       "       [ 1.0027436 ,  0.03558136,  0.19013362, -1.27827915,  0.67648704,\n",
       "         1.79506722,  0.63054322, -0.37947302, -1.35033057,  0.45576721],\n",
       "       [ 0.42542416, -0.29962041, -2.48035968, -0.87457154, -1.23050164,\n",
       "        -1.00629648,  0.1857537 , -1.174924  , -0.33108494,  1.29437514]])"
      ]
     },
     "execution_count": 24,
     "metadata": {},
     "output_type": "execute_result"
    }
   ],
   "source": [
    "items_arr"
   ]
  },
  {
   "cell_type": "code",
   "execution_count": 25,
   "metadata": {
    "ExecuteTime": {
     "end_time": "2022-04-25T18:56:14.956487Z",
     "start_time": "2022-04-25T18:56:14.951630Z"
    }
   },
   "outputs": [
    {
     "data": {
      "text/plain": [
       "(2, 10)"
      ]
     },
     "execution_count": 25,
     "metadata": {},
     "output_type": "execute_result"
    }
   ],
   "source": [
    "users_arr.shape"
   ]
  },
  {
   "cell_type": "code",
   "execution_count": 26,
   "metadata": {
    "ExecuteTime": {
     "end_time": "2022-04-25T18:56:15.420464Z",
     "start_time": "2022-04-25T18:56:15.414153Z"
    }
   },
   "outputs": [
    {
     "data": {
      "text/plain": [
       "(5, 10)"
      ]
     },
     "execution_count": 26,
     "metadata": {},
     "output_type": "execute_result"
    }
   ],
   "source": [
    "items_arr.shape"
   ]
  },
  {
   "cell_type": "markdown",
   "metadata": {},
   "source": [
    "To construct our large users-by-items matrix, we'll simply take the product of our two random matrices."
   ]
  },
  {
   "cell_type": "code",
   "execution_count": 27,
   "metadata": {
    "ExecuteTime": {
     "end_time": "2022-04-25T18:58:50.991998Z",
     "start_time": "2022-04-25T18:58:50.983286Z"
    }
   },
   "outputs": [
    {
     "data": {
      "text/plain": [
       "array([[ 7.53516384,  1.26783511, -5.21738432,  0.36547776,  3.90803828],\n",
       "       [ 1.26783511, 10.38970834, -6.10853643,  5.03189793, -1.63817674]])"
      ]
     },
     "execution_count": 27,
     "metadata": {},
     "output_type": "execute_result"
    }
   ],
   "source": [
    "users_arr.dot(items_arr.T)"
   ]
  },
  {
   "cell_type": "markdown",
   "metadata": {},
   "source": [
    "Now here's where the ALS really kicks in: We'll solve for Max's and Erin's preference vectors by multiplying the pseudo-inverse of the items array by their respective ratings vectors:"
   ]
  },
  {
   "cell_type": "code",
   "execution_count": 28,
   "metadata": {
    "ExecuteTime": {
     "end_time": "2022-04-25T18:58:51.897744Z",
     "start_time": "2022-04-25T18:58:51.880534Z"
    }
   },
   "outputs": [
    {
     "name": "stdout",
     "output_type": "stream",
     "text": [
      "[ 0.47099573 -0.11214938 -0.98527859  0.09266666 -0.64747458  0.00854642\n",
      " -0.11601818  0.09586291 -0.08579953  0.55693307]\n",
      "[-0.23238655 -0.55138144  0.5415508  -0.71191248  0.27767197  0.81157767\n",
      "  0.78557579 -1.03623954 -1.25490079  0.02606555]\n"
     ]
    }
   ],
   "source": [
    "max_pref = np.linalg.pinv(items_arr).dot(ratings_arr.loc['max', :])\n",
    "print(max_pref)\n",
    "erin_pref = np.linalg.pinv(items_arr).dot(ratings_arr.loc['erin', :])\n",
    "print(erin_pref)"
   ]
  },
  {
   "cell_type": "code",
   "execution_count": 29,
   "metadata": {
    "ExecuteTime": {
     "end_time": "2022-04-25T18:58:54.023663Z",
     "start_time": "2022-04-25T18:58:54.017233Z"
    }
   },
   "outputs": [
    {
     "data": {
      "text/plain": [
       "(10, 5)"
      ]
     },
     "execution_count": 29,
     "metadata": {},
     "output_type": "execute_result"
    }
   ],
   "source": [
    "items_arr.T.shape"
   ]
  },
  {
   "cell_type": "markdown",
   "metadata": {},
   "source": [
    "We'll predict (or, in this case, reproduce) Max's and Erin's ratings for films by simply multiplying their preference vectors by the transpose of the items array:"
   ]
  },
  {
   "cell_type": "code",
   "execution_count": 30,
   "metadata": {
    "ExecuteTime": {
     "end_time": "2022-04-25T19:00:29.604131Z",
     "start_time": "2022-04-25T19:00:29.591774Z"
    }
   },
   "outputs": [
    {
     "data": {
      "text/plain": [
       "array([-7.91033905e-16,  1.00000000e+00,  0.00000000e+00,  2.02615702e-15,\n",
       "        4.00000000e+00])"
      ]
     },
     "execution_count": 30,
     "metadata": {},
     "output_type": "execute_result"
    }
   ],
   "source": [
    "newmax = max_pref.dot(items_arr.T)\n",
    "newmax"
   ]
  },
  {
   "cell_type": "markdown",
   "metadata": {},
   "source": [
    "This lines up with the ratings with which we began."
   ]
  },
  {
   "cell_type": "code",
   "execution_count": 31,
   "metadata": {
    "ExecuteTime": {
     "end_time": "2022-04-25T19:00:30.940974Z",
     "start_time": "2022-04-25T19:00:30.934615Z"
    }
   },
   "outputs": [
    {
     "data": {
      "text/plain": [
       "array([ 4.44089210e-16,  2.44249065e-15,  3.33066907e-16,  5.00000000e+00,\n",
       "       -1.55431223e-15])"
      ]
     },
     "execution_count": 31,
     "metadata": {},
     "output_type": "execute_result"
    }
   ],
   "source": [
    "newerin = erin_pref.dot(items_arr.T)\n",
    "newerin"
   ]
  },
  {
   "cell_type": "code",
   "execution_count": 34,
   "metadata": {
    "ExecuteTime": {
     "end_time": "2022-04-25T19:01:01.080407Z",
     "start_time": "2022-04-25T19:01:01.058960Z"
    }
   },
   "outputs": [
    {
     "data": {
      "text/html": [
       "<div>\n",
       "<style scoped>\n",
       "    .dataframe tbody tr th:only-of-type {\n",
       "        vertical-align: middle;\n",
       "    }\n",
       "\n",
       "    .dataframe tbody tr th {\n",
       "        vertical-align: top;\n",
       "    }\n",
       "\n",
       "    .dataframe thead th {\n",
       "        text-align: right;\n",
       "    }\n",
       "</style>\n",
       "<table border=\"1\" class=\"dataframe\">\n",
       "  <thead>\n",
       "    <tr style=\"text-align: right;\">\n",
       "      <th></th>\n",
       "      <th>film1</th>\n",
       "      <th>film2</th>\n",
       "      <th>film3</th>\n",
       "      <th>film4</th>\n",
       "      <th>film5</th>\n",
       "    </tr>\n",
       "  </thead>\n",
       "  <tbody>\n",
       "    <tr>\n",
       "      <th>max</th>\n",
       "      <td>0</td>\n",
       "      <td>1</td>\n",
       "      <td>0</td>\n",
       "      <td>0</td>\n",
       "      <td>4</td>\n",
       "    </tr>\n",
       "    <tr>\n",
       "      <th>erin</th>\n",
       "      <td>0</td>\n",
       "      <td>0</td>\n",
       "      <td>0</td>\n",
       "      <td>5</td>\n",
       "      <td>0</td>\n",
       "    </tr>\n",
       "  </tbody>\n",
       "</table>\n",
       "</div>"
      ],
      "text/plain": [
       "      film1  film2  film3  film4  film5\n",
       "max       0      1      0      0      4\n",
       "erin      0      0      0      5      0"
      ]
     },
     "execution_count": 34,
     "metadata": {},
     "output_type": "execute_result"
    }
   ],
   "source": [
    "ratings_arr"
   ]
  },
  {
   "cell_type": "markdown",
   "metadata": {},
   "source": [
    "Ditto!"
   ]
  },
  {
   "cell_type": "markdown",
   "metadata": {},
   "source": [
    "We'll make a quick error calculation:"
   ]
  },
  {
   "cell_type": "code",
   "execution_count": 32,
   "metadata": {
    "ExecuteTime": {
     "end_time": "2022-04-25T19:00:41.473854Z",
     "start_time": "2022-04-25T19:00:41.462595Z"
    }
   },
   "outputs": [
    {
     "name": "stdout",
     "output_type": "stream",
     "text": [
      "3.318146182585881e-29\n"
     ]
    }
   ],
   "source": [
    "guess = np.vstack([newmax, newerin])\n",
    "\n",
    "err = 0\n",
    "for i in range(2):\n",
    "    for j in range(len(ratings_arr.values[i, :])):\n",
    "        if ratings_arr.values[i, j] != 0:\n",
    "            err += (ratings_arr.values[i, j] - guess[i, j])**2\n",
    "print(err)"
   ]
  },
  {
   "cell_type": "markdown",
   "metadata": {},
   "source": [
    "#### Second Example"
   ]
  },
  {
   "cell_type": "code",
   "execution_count": null,
   "metadata": {},
   "outputs": [],
   "source": [
    "# Users: m x n (m users)\n",
    "# Items: r x n (r items)\n",
    "# Ratings: m x r"
   ]
  },
  {
   "cell_type": "code",
   "execution_count": 35,
   "metadata": {
    "ExecuteTime": {
     "end_time": "2022-04-25T19:08:37.373091Z",
     "start_time": "2022-04-25T19:08:37.339204Z"
    }
   },
   "outputs": [],
   "source": [
    "# If P = users and Q = items, then we want to approximate R = PQ^T\n",
    "# Let's generate R.\n",
    "\n",
    "seed(42)\n",
    "ratings2 = []\n",
    "for _ in range(100):\n",
    "    user = []\n",
    "    for _ in range(100):\n",
    "        chance = gs(0, 0.4)\n",
    "        \n",
    "        # We'll fill our ratings matrix mostly with 0's to represent\n",
    "        # unrated films. This is NOT standard; we're doing this only\n",
    "        # to illustrate the general algorithm.\n",
    "        if chance > 0.5:\n",
    "            user.append(int(uni(1, 6)))\n",
    "        else:\n",
    "            user.append(0)\n",
    "        \n",
    "        # This 'if' will simply ensure that everyone has given at least\n",
    "        # one rating.\n",
    "        if user.count(0) == 10:\n",
    "            user[int(uni(0, 10))] = int(uni(1, 6))\n",
    "    ratings2.append(user)\n",
    "ratings_arr2 = np.array(ratings2)"
   ]
  },
  {
   "cell_type": "code",
   "execution_count": 37,
   "metadata": {
    "ExecuteTime": {
     "end_time": "2022-04-25T19:08:58.327701Z",
     "start_time": "2022-04-25T19:08:58.318146Z"
    },
    "scrolled": true
   },
   "outputs": [
    {
     "data": {
      "text/plain": [
       "array([[0, 0, 0, ..., 0, 2, 0],\n",
       "       [3, 0, 2, ..., 0, 0, 0],\n",
       "       [5, 3, 0, ..., 0, 0, 0],\n",
       "       ...,\n",
       "       [0, 0, 0, ..., 5, 0, 2],\n",
       "       [0, 2, 5, ..., 0, 0, 0],\n",
       "       [2, 2, 0, ..., 5, 0, 5]])"
      ]
     },
     "execution_count": 37,
     "metadata": {},
     "output_type": "execute_result"
    }
   ],
   "source": [
    "ratings_arr2"
   ]
  },
  {
   "cell_type": "code",
   "execution_count": 38,
   "metadata": {
    "ExecuteTime": {
     "end_time": "2022-04-25T19:09:11.037882Z",
     "start_time": "2022-04-25T19:09:11.031104Z"
    }
   },
   "outputs": [
    {
     "data": {
      "text/plain": [
       "(100, 100)"
      ]
     },
     "execution_count": 38,
     "metadata": {},
     "output_type": "execute_result"
    }
   ],
   "source": [
    "ratings_arr2.shape"
   ]
  },
  {
   "cell_type": "code",
   "execution_count": 39,
   "metadata": {
    "ExecuteTime": {
     "end_time": "2022-04-25T19:09:14.041520Z",
     "start_time": "2022-04-25T19:09:14.032052Z"
    }
   },
   "outputs": [],
   "source": [
    "users2 = []\n",
    "\n",
    "# Random generation of values for the user matrix\n",
    "for _ in range(100):\n",
    "    user = []\n",
    "    for _ in range(10):\n",
    "        user.append(gs(0, 1))\n",
    "    users2.append(user)\n",
    "users_arr2 = np.array(users2)"
   ]
  },
  {
   "cell_type": "code",
   "execution_count": 40,
   "metadata": {
    "ExecuteTime": {
     "end_time": "2022-04-25T19:09:14.315367Z",
     "start_time": "2022-04-25T19:09:14.305379Z"
    }
   },
   "outputs": [],
   "source": [
    "items2 = []\n",
    "\n",
    "# Random generation of values for the item matrix\n",
    "for _ in range(100):\n",
    "    item = []\n",
    "    for _ in range(10):\n",
    "        item.append(gs(0, 1))\n",
    "    items2.append(item)\n",
    "items_arr2 = np.array(items2)"
   ]
  },
  {
   "cell_type": "code",
   "execution_count": 41,
   "metadata": {
    "ExecuteTime": {
     "end_time": "2022-04-25T19:11:21.623510Z",
     "start_time": "2022-04-25T19:11:21.609123Z"
    }
   },
   "outputs": [
    {
     "data": {
      "text/plain": [
       "(100, 10)"
      ]
     },
     "execution_count": 41,
     "metadata": {},
     "output_type": "execute_result"
    }
   ],
   "source": [
    "users_arr2.shape"
   ]
  },
  {
   "cell_type": "code",
   "execution_count": 42,
   "metadata": {
    "ExecuteTime": {
     "end_time": "2022-04-25T19:11:25.170490Z",
     "start_time": "2022-04-25T19:11:25.164220Z"
    }
   },
   "outputs": [
    {
     "data": {
      "text/plain": [
       "(100, 10)"
      ]
     },
     "execution_count": 42,
     "metadata": {},
     "output_type": "execute_result"
    }
   ],
   "source": [
    "items_arr2.shape"
   ]
  },
  {
   "cell_type": "markdown",
   "metadata": {},
   "source": [
    "Our first guess at filling in the matrix will simply be the matrix product:"
   ]
  },
  {
   "cell_type": "code",
   "execution_count": 43,
   "metadata": {
    "ExecuteTime": {
     "end_time": "2022-04-25T19:11:31.173114Z",
     "start_time": "2022-04-25T19:11:31.168207Z"
    }
   },
   "outputs": [],
   "source": [
    "guess = users_arr2.dot(items_arr2.T)"
   ]
  },
  {
   "cell_type": "code",
   "execution_count": 44,
   "metadata": {
    "ExecuteTime": {
     "end_time": "2022-04-25T19:11:31.853705Z",
     "start_time": "2022-04-25T19:11:31.846680Z"
    }
   },
   "outputs": [
    {
     "data": {
      "text/plain": [
       "True"
      ]
     },
     "execution_count": 44,
     "metadata": {},
     "output_type": "execute_result"
    }
   ],
   "source": [
    "guess.shape == ratings_arr2.shape"
   ]
  },
  {
   "cell_type": "markdown",
   "metadata": {},
   "source": [
    "Let's get a measure of error:"
   ]
  },
  {
   "cell_type": "code",
   "execution_count": 45,
   "metadata": {
    "ExecuteTime": {
     "end_time": "2022-04-25T19:11:38.169838Z",
     "start_time": "2022-04-25T19:11:38.158875Z"
    }
   },
   "outputs": [
    {
     "data": {
      "text/plain": [
       "array([[ 0.52571245,  3.72234761,  2.13774926, ..., -4.91599835,\n",
       "         3.56313166,  0.01902403],\n",
       "       [ 0.43865091, -2.74523879, -2.05217977, ...,  4.01784861,\n",
       "        -1.21227392,  0.14894549],\n",
       "       [ 1.95810768,  1.86653253, -0.61249156, ...,  1.4848292 ,\n",
       "        -0.33905578, -0.87590285],\n",
       "       ...,\n",
       "       [-2.31923919, -3.6868694 ,  3.38464046, ...,  3.74399696,\n",
       "         3.64776123,  5.97132554],\n",
       "       [-3.3611196 ,  3.9221067 ,  6.43595586, ..., -3.59392207,\n",
       "         1.68512129, -3.39969919],\n",
       "       [ 2.63496248,  3.38475465,  0.69257906, ...,  0.88937176,\n",
       "         0.04162701,  6.55957347]])"
      ]
     },
     "execution_count": 45,
     "metadata": {},
     "output_type": "execute_result"
    }
   ],
   "source": [
    "ratings_arr2 - guess"
   ]
  },
  {
   "cell_type": "code",
   "execution_count": 46,
   "metadata": {
    "ExecuteTime": {
     "end_time": "2022-04-25T19:11:39.116284Z",
     "start_time": "2022-04-25T19:11:39.107132Z"
    }
   },
   "outputs": [
    {
     "data": {
      "text/plain": [
       "115792.62101436341"
      ]
     },
     "execution_count": 46,
     "metadata": {},
     "output_type": "execute_result"
    }
   ],
   "source": [
    "err = (ratings_arr2 - guess)**2\n",
    "\n",
    "np.sum(err)"
   ]
  },
  {
   "cell_type": "markdown",
   "metadata": {},
   "source": [
    "Pretty terrible! But we started with random numbers and have only done one iteration. Let's see if we can do better:"
   ]
  },
  {
   "cell_type": "code",
   "execution_count": 47,
   "metadata": {
    "ExecuteTime": {
     "end_time": "2022-04-25T19:14:22.094327Z",
     "start_time": "2022-04-25T19:14:22.076311Z"
    }
   },
   "outputs": [],
   "source": [
    "def als(ratings, users, items, reps=10):\n",
    "    \n",
    "    ratings_cols = ratings.T\n",
    "    \n",
    "    for _ in range(reps):\n",
    "        \n",
    "        new_users = []\n",
    "        for i in range(len(ratings)):\n",
    "            \n",
    "            user = LinearRegression(fit_intercept=False)\\\n",
    "            .fit(items, ratings[i]).coef_\n",
    "            new_users.append(user)\n",
    "        new_users = np.asarray(new_users)\n",
    "        \n",
    "        new_items = []\n",
    "        for i in range(len(ratings)):\n",
    "            \n",
    "            item = LinearRegression(fit_intercept=False)\\\n",
    "            .fit(new_users, ratings_cols[i]).coef_\n",
    "            new_items.append(item)\n",
    "        new_items = np.asarray(new_items)\n",
    "        \n",
    "        guess = new_users.dot(new_items.T)\n",
    "        err = 0\n",
    "        for i in range(len(ratings)):\n",
    "            for j in range(len(ratings[i])):\n",
    "                if ratings[i, j] != 0:\n",
    "                    err += (ratings[i, j] - guess[i, j])**2\n",
    "        print(err)\n",
    "        \n",
    "        items = new_items\n",
    "        \n",
    "    return new_users.dot(new_items.T)"
   ]
  },
  {
   "cell_type": "markdown",
   "metadata": {},
   "source": [
    "We should see our error decrease with more iterations:"
   ]
  },
  {
   "cell_type": "code",
   "execution_count": 48,
   "metadata": {
    "ExecuteTime": {
     "end_time": "2022-04-25T19:14:28.136389Z",
     "start_time": "2022-04-25T19:14:27.515136Z"
    }
   },
   "outputs": [
    {
     "name": "stdout",
     "output_type": "stream",
     "text": [
      "8447.205902300975\n",
      "6567.174519509626\n",
      "6300.41656440408\n",
      "6193.260494106866\n",
      "6138.461291808537\n",
      "6107.216830016895\n",
      "6088.9330397789945\n",
      "6078.551821329419\n",
      "6073.0945878334705\n",
      "6070.676388893392\n"
     ]
    },
    {
     "data": {
      "text/plain": [
       "array([[ 6.39680659e-01,  9.66323475e-01, -4.32963499e-01,\n",
       "        -7.01806452e-01,  2.36700602e-01,  3.64361546e+00,\n",
       "         6.21691722e-01,  4.01314024e-01,  6.58846915e-02,\n",
       "         2.33850990e-01,  2.65802362e-01,  3.30895952e-01,\n",
       "         4.87491177e-01,  1.42471726e+00,  8.73727046e-01,\n",
       "         5.28683179e-01,  1.02281209e-01, -5.16379126e-01,\n",
       "         1.79986795e-01,  1.66644403e-01, -2.45481827e-01,\n",
       "        -6.78917601e-01,  1.20680572e+00,  7.39236783e-01,\n",
       "         2.67342745e-01, -4.64412575e-01,  5.22958676e-01,\n",
       "         6.40781118e-01,  2.64918999e-01,  5.96151586e-01,\n",
       "         1.02490603e+00, -8.52946638e-02,  2.01195616e-01,\n",
       "         4.31664221e-02,  7.38210476e-01,  2.07233433e-01,\n",
       "         2.51748134e-01,  7.15876478e-01,  5.01881444e-01,\n",
       "         4.05729030e-01, -7.07448910e-02, -1.65711888e-01,\n",
       "         2.97758038e-01,  4.25816619e-01, -3.45557557e-01,\n",
       "         8.26643449e-01, -6.52703284e-01,  7.96705294e-01,\n",
       "        -4.29702256e-01, -8.50621380e-02,  5.40750300e-01,\n",
       "         8.07117229e-01,  7.58252887e-02,  1.27990901e+00,\n",
       "         3.58384253e-01,  5.61878840e-01,  5.81585512e-01,\n",
       "         5.95092488e-01, -3.66136138e-01, -9.53601562e-02,\n",
       "         3.26054056e-01,  1.93741320e-01, -3.81047951e-01,\n",
       "         1.86681459e+00,  1.87901725e-02,  1.60525835e+00,\n",
       "        -2.86567611e-01, -9.14396807e-01, -7.93779091e-01,\n",
       "        -7.50829195e-01,  2.59123617e-01,  1.93149475e-01,\n",
       "         3.13958221e-01,  9.11519954e-01, -1.90531496e-01,\n",
       "         1.96912850e-01,  2.80807169e-01, -1.07074226e+00,\n",
       "        -1.58765475e-01,  6.49938365e-01,  1.58639489e-01,\n",
       "         1.95692059e-01, -2.83526446e-02,  4.44521637e-01,\n",
       "        -7.33713212e-03,  1.01225480e+00,  5.30957526e-01,\n",
       "         9.89500159e-02, -1.04541878e-01,  3.30114560e-01,\n",
       "         4.10076199e-01,  6.24734858e-01,  1.80903602e-01,\n",
       "        -1.15510913e-01, -2.05320676e-02,  1.17246779e-01,\n",
       "         8.05318721e-02, -1.57363934e-01,  4.17322557e-02,\n",
       "        -1.41735611e-01],\n",
       "       [ 2.93579926e+00,  1.64468676e-01,  1.70681498e+00,\n",
       "         4.32996734e-01,  2.72946788e-01, -7.46084126e-01,\n",
       "         5.56979651e-01,  2.13851689e+00,  1.65021521e+00,\n",
       "         9.23716470e-01, -3.66812898e-03,  5.08187448e-01,\n",
       "         1.74951197e-01,  9.37864246e-01,  9.91533689e-02,\n",
       "         1.88913899e-01,  8.15525066e-01,  9.37617473e-01,\n",
       "         3.35828583e-01, -1.92642799e-01, -1.57062945e-01,\n",
       "         3.80465017e-01,  2.27289591e+00, -7.14536106e-02,\n",
       "        -1.74616587e-01,  3.91388636e-01,  6.04882902e-01,\n",
       "         1.40793639e+00, -3.89785793e-02,  5.89036187e-01,\n",
       "         1.15327142e+00,  9.09086580e-01,  6.51880717e-01,\n",
       "         3.16268515e-01, -2.13385887e-01,  2.45185897e-01,\n",
       "         2.25414127e-01,  3.47424939e-01,  2.31356071e-01,\n",
       "         3.91156886e-01,  2.78621907e-01,  3.82765653e-01,\n",
       "         2.78079739e-01,  7.34810986e-01,  3.10775671e-01,\n",
       "         5.70514750e-01,  6.13617069e-01, -3.28095044e-02,\n",
       "         2.44422039e-01,  6.58084243e-01, -2.00231570e-01,\n",
       "         4.26481812e-01,  4.02669931e-01,  6.15537173e-01,\n",
       "         4.69463430e-01,  3.29862264e-01,  3.58560109e-01,\n",
       "         6.23555444e-01,  6.55434311e-01,  7.24392042e-01,\n",
       "         4.85771264e-01,  1.32880340e+00, -5.70668783e-02,\n",
       "         1.37934681e+00,  2.13670315e-01,  4.55919858e-01,\n",
       "         2.84645294e+00,  9.58830277e-01,  1.41021735e+00,\n",
       "         3.11371186e-01,  8.38043659e-01,  1.07787444e-01,\n",
       "         2.65964708e-01,  4.25806531e-01,  4.20781166e-01,\n",
       "         4.67293721e-01,  2.16723049e-01, -2.79212397e-02,\n",
       "         1.63474307e-01,  2.94454001e-01, -1.67819046e-01,\n",
       "         3.00644055e-01,  7.70174578e-01, -2.20970261e-01,\n",
       "        -2.26036061e-01,  1.44209322e+00,  8.04870270e-01,\n",
       "         3.82857350e-01,  1.04260694e-01,  4.14861269e-01,\n",
       "        -5.70222486e-02,  1.03672361e+00, -5.64454655e-02,\n",
       "        -2.94131733e-01,  1.43589972e+00,  3.05693397e-02,\n",
       "         4.83123558e-01,  1.04915352e+00,  1.29117701e-01,\n",
       "         8.85082345e-01],\n",
       "       [ 6.70185671e+00,  2.90165402e+00,  5.60134025e-01,\n",
       "         2.22878632e+00,  5.46829782e-01, -3.46829699e-01,\n",
       "        -2.09917375e-01,  6.66283621e-01, -1.10911138e+00,\n",
       "         5.19217011e+00,  7.05317982e-01,  1.05013522e-01,\n",
       "         1.61302748e-01,  1.87726313e-01, -6.26365351e-01,\n",
       "         5.18897964e-02,  2.08922626e+00,  6.67328792e-01,\n",
       "         9.51074001e-01, -1.73603278e-01, -8.70905343e-02,\n",
       "         1.83566162e-02, -7.64280366e-02,  4.83861721e-02,\n",
       "         4.48285218e-02,  7.51959727e-01, -6.43645487e-01,\n",
       "        -3.56043322e-01, -9.87853625e-02, -1.08140478e-01,\n",
       "        -2.87903629e-01,  7.50224653e-01, -2.68353300e-01,\n",
       "         1.22858652e-02, -5.26968100e-01,  1.11008821e+00,\n",
       "         3.00786786e-01,  1.21093743e+00, -1.43555291e-01,\n",
       "         4.22081619e-01,  3.80989650e-01,  2.39962302e-01,\n",
       "         6.52595101e-01,  4.27051483e-01,  1.31215556e+00,\n",
       "         7.71373664e-02,  1.09329198e+00,  6.85781439e-01,\n",
       "         2.30839706e-01,  1.68819723e-01,  3.80965838e+00,\n",
       "        -5.84642101e-01,  4.46794832e-01,  7.81445846e-01,\n",
       "         3.53846755e-01,  6.27442511e-01, -3.69435324e-01,\n",
       "        -7.16122718e-01,  1.67236911e+00,  1.54589272e+00,\n",
       "         5.02019221e-01, -9.54193444e-01, -6.00756417e-01,\n",
       "        -5.32383979e-02, -2.23066865e-01,  7.71872600e-01,\n",
       "         1.06986004e+00,  5.17195156e-01,  1.37234105e+00,\n",
       "         2.38506491e+00, -1.96240877e-01,  4.23232909e-01,\n",
       "        -1.20628011e-01, -4.72991297e-01,  2.59255567e+00,\n",
       "         6.50857205e-01, -1.44914819e-01,  3.15893443e-01,\n",
       "         2.38687307e-01, -1.10402565e+00,  1.19277203e+00,\n",
       "         1.35682310e+00,  1.50608195e-01,  2.08661974e-01,\n",
       "         1.46890872e-01,  1.39155510e+00,  1.12368395e+00,\n",
       "         1.16510684e-01,  2.56382548e-01,  3.63268476e+00,\n",
       "         2.88558557e-01,  2.60100958e-01,  1.08316217e+00,\n",
       "         3.27315491e-01, -3.32468083e-02,  4.47519844e-01,\n",
       "         8.34677599e-01,  9.73760754e-03,  8.40863832e-01,\n",
       "         7.81240126e-01],\n",
       "       [ 3.77314112e-01,  5.84413971e-01,  2.85387342e+00,\n",
       "         3.66317630e+00,  2.49428987e+00, -2.93137971e-01,\n",
       "         3.91373261e+00,  3.19384652e+00,  1.87014018e+00,\n",
       "         8.27736895e-01,  7.82423980e-02,  3.10622606e-01,\n",
       "         7.61042066e-01, -2.46861387e-01,  6.71296346e-01,\n",
       "         1.83631004e-01, -2.96016106e-01,  2.46135347e-01,\n",
       "        -2.41119501e-01, -3.16843743e-01,  7.03422117e-01,\n",
       "        -1.50197507e-01,  5.66920458e-01, -1.46025598e-01,\n",
       "         6.01193989e-02, -3.60375002e-01,  9.01547192e-01,\n",
       "         3.79769259e-01, -2.48940615e-01,  2.56975834e-01,\n",
       "         2.58271626e-01,  3.76055057e-01, -9.28105056e-03,\n",
       "        -1.28106487e-01,  4.13229672e-01,  4.96822336e-02,\n",
       "        -8.59114735e-02,  2.39926329e-01,  2.04385403e-01,\n",
       "         2.03576078e-01, -2.97860566e-01,  3.05916527e-01,\n",
       "         1.83482048e-01, -1.87934960e-01, -1.59347328e-01,\n",
       "         5.48108876e-01, -1.44364575e-01,  3.46053295e-02,\n",
       "        -5.20252183e-03,  7.22509506e-01, -6.02675694e-01,\n",
       "        -1.06341085e-01,  3.03484900e-01,  1.14505729e+00,\n",
       "         4.38224828e-01,  7.14532928e-01,  2.75949886e-01,\n",
       "         9.30972100e-01,  7.50177964e-01, -3.77482962e-01,\n",
       "         3.68067081e-01,  3.53518004e-01,  8.54437331e-01,\n",
       "        -4.44803856e-03,  1.01699123e+00, -9.16053077e-02,\n",
       "        -3.08935017e-01,  5.79362772e-01,  5.23978402e-01,\n",
       "         6.39192015e-02, -3.76630501e-01,  5.76147554e-01,\n",
       "         1.37682838e+00, -6.37771923e-01,  1.61948464e-01,\n",
       "        -2.47778694e-01,  9.91692339e-01,  1.87704948e-01,\n",
       "         2.33670206e-01,  9.84541699e-01, -6.08225035e-01,\n",
       "         2.71997104e-01,  2.28824936e-01, -7.92117027e-02,\n",
       "         5.54437316e-01,  1.33974806e-01, -6.57625232e-02,\n",
       "         2.78399202e-01, -2.27768572e-01, -1.44287703e+00,\n",
       "         4.87645951e-01,  9.02192665e-01,  6.38210836e-01,\n",
       "         4.93480767e-01, -2.53133315e-01,  8.52947891e-02,\n",
       "         5.47085097e-01,  2.71876181e-01,  6.90497515e-01,\n",
       "        -2.13305701e-01],\n",
       "       [ 1.98515871e-01,  3.04647689e-01,  5.01947515e+00,\n",
       "         1.02641695e+00,  3.83702053e+00,  1.32857933e+00,\n",
       "         5.48868426e-01,  1.36157714e+00, -4.05982534e-01,\n",
       "        -1.59743530e-01,  1.59516376e-01,  1.03317739e-01,\n",
       "         7.03644672e-01,  3.97494603e-01, -1.68163133e-01,\n",
       "         2.47591939e-01, -1.10148130e-01, -2.74228114e-01,\n",
       "         4.95018103e-02,  5.40167212e-01,  3.63639262e-01,\n",
       "         9.42653874e-01,  3.77858385e-01,  4.64756804e-01,\n",
       "         2.21406458e-01,  1.57128492e-01,  3.61964022e-01,\n",
       "         4.08756590e-01,  1.01707209e-01, -2.30655857e-01,\n",
       "         5.89274093e-01,  2.63190313e-02,  1.05794585e-01,\n",
       "         4.01170560e-01,  7.34455228e-01,  2.87963187e-01,\n",
       "         3.01965240e-01,  6.77881987e-01,  2.22464821e-01,\n",
       "         2.77340822e-01,  2.72433809e-01,  1.66791883e-01,\n",
       "         1.48433999e-01,  1.87814390e-01, -1.55958859e-01,\n",
       "         6.15437932e-01,  6.50453053e-01,  5.22346716e-02,\n",
       "         2.98545735e-01,  2.58004888e-01,  7.94941732e-01,\n",
       "         4.48033821e-01, -3.50286647e-01,  8.29241694e-01,\n",
       "        -1.91346235e-01,  1.99018775e+00,  1.88931991e-01,\n",
       "         8.25870718e-01,  1.06186694e+00, -2.89081705e-01,\n",
       "         1.31118883e+00,  4.63571659e-01,  4.81087840e-01,\n",
       "        -1.21525626e-01,  5.41071740e-01,  5.58162817e-01,\n",
       "        -4.36383692e-02,  7.83796510e-01,  3.03565902e-01,\n",
       "         3.98599344e-01, -1.38974124e-01,  7.93441051e-02,\n",
       "         8.89328938e-01,  6.77764475e-01, -1.72594680e-01,\n",
       "         6.12919473e-03, -1.73356515e-01,  1.76919199e-01,\n",
       "         9.29253395e-02,  4.77680893e-01,  6.54382019e-02,\n",
       "         9.91148154e-02, -2.36890021e-01, -3.12856572e-01,\n",
       "         3.19175207e-01,  9.33089583e-01, -1.66795737e-01,\n",
       "         1.01778582e-01,  1.81819435e-01, -1.05141264e+00,\n",
       "         2.76809746e-01,  1.32232791e-01,  5.93340987e-01,\n",
       "         1.36600043e-01, -2.57811217e-01, -9.05514506e-02,\n",
       "        -4.98651120e-01, -5.53273126e-02,  7.86827976e-01,\n",
       "        -9.21893376e-02]])"
      ]
     },
     "execution_count": 48,
     "metadata": {},
     "output_type": "execute_result"
    }
   ],
   "source": [
    "als(ratings_arr2, users_arr2, items_arr2)[:5, :]"
   ]
  },
  {
   "cell_type": "markdown",
   "metadata": {},
   "source": [
    "#### ALS in `pyspark`\n",
    "\n",
    "We'll talk about Big Data and Spark soon, but I'll just note here that Spark has a recommendation submodule inside its ml (machine learning) module. Source code for `pyspark`'s version [here](https://spark.apache.org/docs/latest/api/python/_modules/pyspark/ml/recommendation.html)."
   ]
  },
  {
   "cell_type": "code",
   "execution_count": null,
   "metadata": {},
   "outputs": [],
   "source": []
  }
 ],
 "metadata": {
  "kernelspec": {
   "display_name": "Python 3",
   "language": "python",
   "name": "python3"
  },
  "language_info": {
   "codemirror_mode": {
    "name": "ipython",
    "version": 3
   },
   "file_extension": ".py",
   "mimetype": "text/x-python",
   "name": "python",
   "nbconvert_exporter": "python",
   "pygments_lexer": "ipython3",
   "version": "3.8.5"
  },
  "toc": {
   "base_numbering": 1,
   "nav_menu": {},
   "number_sections": true,
   "sideBar": true,
   "skip_h1_title": false,
   "title_cell": "Table of Contents",
   "title_sidebar": "Contents",
   "toc_cell": false,
   "toc_position": {},
   "toc_section_display": true,
   "toc_window_display": false
  },
  "varInspector": {
   "cols": {
    "lenName": 16,
    "lenType": 16,
    "lenVar": 40
   },
   "kernels_config": {
    "python": {
     "delete_cmd_postfix": "",
     "delete_cmd_prefix": "del ",
     "library": "var_list.py",
     "varRefreshCmd": "print(var_dic_list())"
    },
    "r": {
     "delete_cmd_postfix": ") ",
     "delete_cmd_prefix": "rm(",
     "library": "var_list.r",
     "varRefreshCmd": "cat(var_dic_list()) "
    }
   },
   "types_to_exclude": [
    "module",
    "function",
    "builtin_function_or_method",
    "instance",
    "_Feature"
   ],
   "window_display": true
  }
 },
 "nbformat": 4,
 "nbformat_minor": 2
}
